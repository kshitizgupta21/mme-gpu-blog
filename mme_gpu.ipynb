{
 "cells": [
  {
   "cell_type": "markdown",
   "id": "bd9a3ec2",
   "metadata": {},
   "source": [
    "# Serve Multiple DL models on GPU with Amazon SageMaker Multi-model endpoints (MME)\n",
    "\n",
    "\n",
    "\n",
    "Amazon SageMaker multi-model endpoints(MME) provide a scalable and cost-effective way to deploy large number of deep learning models. Previously, customers had limited options to deploy 100s of deep learning models that need accelerated compute with GPUs. Now customers can deploy 1000s of deep learning models behind one SageMaker endpoint. Now, MME will run multiple models on a GPU core, share GPU instances behind an endpoint across multiple models and dynamically load/unload models based on the incoming traffic. With this, customers can significantly save cost and achieve best price performance.\n",
    "\n",
    "\n",
    "\n",
    "<div class=\"alert alert-info\"> 💡 <strong> Note </strong>\n",
    "This notebook was tested with the `conda_python3` kernel on an Amazon SageMaker notebook instance of type `g5.xlarge`.\n",
    "</div>"
   ]
  },
  {
   "cell_type": "markdown",
   "id": "923676c1-27cd-4fbd-a9ee-0cc9013a87de",
   "metadata": {},
   "source": [
    "In this notebook, we will walk you through how to use NVIDIA Triton Inference Server on Amazon SageMaker MME with GPU feature to deploy two different NLP models (**DistilBERT** and **T5**) for two different use-cases (**Classification** and **Summarization**) in two different frameworks (**TensorFlow** and **PyTorch**) on the same GPU. "
   ]
  },
  {
   "cell_type": "markdown",
   "id": "3434aca8",
   "metadata": {},
   "source": [
    "## Installs\n",
    "\n",
    "Installs the dependencies required to package the model and run inferences using Triton server. Update SageMaker, boto3, awscli etc"
   ]
  },
  {
   "cell_type": "code",
   "execution_count": 30,
   "id": "f0c8baf7",
   "metadata": {},
   "outputs": [],
   "source": [
    "!pip install -qU pip awscli boto3 sagemaker\n",
    "!pip install nvidia-pyindex --quiet\n",
    "!pip install tritonclient[http] --quiet\n",
    "!pip install transformers[sentencepiece] --quiet"
   ]
  },
  {
   "cell_type": "markdown",
   "id": "64a82dd9",
   "metadata": {},
   "source": [
    "## Imports and variables"
   ]
  },
  {
   "cell_type": "code",
   "execution_count": 10,
   "id": "d0457ce6",
   "metadata": {},
   "outputs": [],
   "source": [
    "import boto3, json, sagemaker, time\n",
    "from sagemaker import get_execution_role\n",
    "import numpy as np\n",
    "import os\n",
    "os.environ[\"TOKENIZERS_PARALLELISM\"] = \"false\"\n",
    "\n",
    "sm_client = boto3.client(service_name=\"sagemaker\")\n",
    "runtime_sm_client = boto3.client(\"sagemaker-runtime\")\n",
    "sagemaker_session = sagemaker.Session(boto_session=boto3.Session())\n",
    "s3_client = boto3.client('s3')\n",
    "bucket = sagemaker.Session().default_bucket()\n",
    "prefix = \"nlp-mme-gpu\"\n",
    "\n",
    "# account mapping for SageMaker MME Triton Image\n",
    "account_id_map = {\n",
    "    \"us-east-1\": \"785573368785\",\n",
    "    \"us-east-2\": \"007439368137\",\n",
    "    \"us-west-1\": \"710691900526\",\n",
    "    \"us-west-2\": \"301217895009\",\n",
    "    \"eu-west-1\": \"802834080501\",\n",
    "    \"eu-west-2\": \"205493899709\",\n",
    "    \"eu-west-3\": \"254080097072\",\n",
    "    \"eu-north-1\": \"601324751636\",\n",
    "    \"eu-south-1\": \"966458181534\",\n",
    "    \"eu-central-1\": \"746233611703\",\n",
    "    \"ap-east-1\": \"110948597952\",\n",
    "    \"ap-south-1\": \"763008648453\",\n",
    "    \"ap-northeast-1\": \"941853720454\",\n",
    "    \"ap-northeast-2\": \"151534178276\",\n",
    "    \"ap-southeast-1\": \"324986816169\",\n",
    "    \"ap-southeast-2\": \"355873309152\",\n",
    "    \"cn-northwest-1\": \"474822919863\",\n",
    "    \"cn-north-1\": \"472730292857\",\n",
    "    \"sa-east-1\": \"756306329178\",\n",
    "    \"ca-central-1\": \"464438896020\",\n",
    "    \"me-south-1\": \"836785723513\",\n",
    "    \"af-south-1\": \"774647643957\",\n",
    "}\n",
    "\n",
    "region = boto3.Session().region_name\n",
    "if region not in account_id_map.keys():\n",
    "    raise (\"UNSUPPORTED REGION\")\n",
    "\n",
    "base = \"amazonaws.com.cn\" if region.startswith(\"cn-\") else \"amazonaws.com\"\n",
    "mme_triton_image_uri = (\n",
    "    \"{account_id}.dkr.ecr.{region}.{base}/sagemaker-tritonserver:22.09-py3\".format(\n",
    "        account_id=account_id_map[region], region=region, base=base\n",
    "    )\n",
    ")"
   ]
  },
  {
   "cell_type": "code",
   "execution_count": null,
   "id": "0b6201ee-c13d-4d69-9f65-806f4266911b",
   "metadata": {},
   "outputs": [],
   "source": [
    "bert = \"distilbert-base-uncased-finetuned-sst-2-english\"\n",
    "t5 = \"t5-small\""
   ]
  },
  {
   "cell_type": "markdown",
   "id": "0f5b7b45",
   "metadata": {},
   "source": [
    "## Workflow Overview\n",
    "\n",
    "This section presents overview of main steps for preparing DistilBERT TensorFlow model (served using TensorFlow backend) and T5 Pytorch (served using Python backend) model to be served using Triton Inference Server.\n",
    "### 1. Generate Model Artifacts\n",
    "\n",
    "#### DistilBERT TensorFlow model"
   ]
  },
  {
   "cell_type": "markdown",
   "id": "6eb1ebfc-e7c3-4635-a0e2-6388a9f61c52",
   "metadata": {},
   "source": [
    "First, we use HuggingFace transformers to load pre-trained DistilBERT TensorFlow model that has been fine-tuned for sentiment analysis binary classification task. Then, we save the model as SavedModel serialized format. The `generate_distilbert_tf.sh` bash script performs all these steps inside the NGC TensorFlow container. Run the command below to generate DistilBERT Tensorflow model. It can take a few minutes."
   ]
  },
  {
   "cell_type": "code",
   "execution_count": 23,
   "id": "1ad04ad7",
   "metadata": {
    "scrolled": true
   },
   "outputs": [
    {
     "name": "stdout",
     "output_type": "stream",
     "text": [
      "Unable to find image 'nvcr.io/nvidia/tensorflow:22.09-tf2-py3' locally\n",
      "22.09-tf2-py3: Pulling from nvidia/tensorflow\n",
      "\n",
      "\u001b[1B20708c8b: Pulling fs layer \n",
      "\u001b[1B25430193: Pulling fs layer \n",
      "\u001b[1B583c6b12: Pulling fs layer \n",
      "\u001b[1Bbe10edc2: Pulling fs layer \n",
      "\u001b[1Bd046b7e1: Pulling fs layer \n",
      "\u001b[1Be997e3c2: Pulling fs layer \n",
      "\u001b[1B45bfbc9d: Pulling fs layer \n",
      "\u001b[1B67d9ff4b: Pulling fs layer \n",
      "\u001b[1B96db94d9: Pulling fs layer \n",
      "\u001b[1Baac63bdf: Pulling fs layer \n",
      "\u001b[1Ba652228e: Pulling fs layer \n",
      "\u001b[1Bec5f9761: Pulling fs layer \n",
      "\u001b[1B1c09fe21: Pulling fs layer \n",
      "\u001b[1Bb700ef54: Pulling fs layer \n",
      "\u001b[1B885395bd: Pulling fs layer \n",
      "\u001b[1Bff9b789b: Pulling fs layer \n",
      "\u001b[1Baba32b97: Pulling fs layer \n",
      "\u001b[1B02c3a422: Pulling fs layer \n",
      "\u001b[1B9aa5441f: Pulling fs layer \n",
      "\u001b[1Bccfc15f8: Pulling fs layer \n",
      "\u001b[1Ba65c36fa: Pulling fs layer \n",
      "\u001b[1B03c92757: Pulling fs layer \n",
      "\u001b[1B5d6dfb89: Pulling fs layer \n",
      "\u001b[1B8846924e: Pulling fs layer \n",
      "\u001b[1B42b86298: Pulling fs layer \n",
      "\u001b[1B51616c05: Pulling fs layer \n",
      "\u001b[1Bb2fe3059: Pulling fs layer \n",
      "\u001b[1Bf4fd0fdc: Pulling fs layer \n",
      "\u001b[1B485f5ad0: Pulling fs layer \n",
      "\u001b[1B1f6b2d00: Pulling fs layer \n",
      "\u001b[1B859795ff: Pulling fs layer \n",
      "\u001b[1B491d736c: Pulling fs layer \n",
      "\u001b[1B56cf6021: Pulling fs layer \n",
      "\u001b[1B533d280d: Pulling fs layer \n",
      "\u001b[1B7dd5f4dd: Pulling fs layer \n",
      "\u001b[1B3e3c8185: Pulling fs layer \n",
      "\u001b[34Be10edc2: Waiting fs layer \n",
      "\u001b[34B046b7e1: Waiting fs layer \n",
      "\u001b[1B79669cfb: Pulling fs layer \n",
      "\u001b[35B997e3c2: Waiting fs layer \n",
      "\u001b[1B0694ee79: Pulling fs layer \n",
      "\u001b[1Bf2cf213b: Pulling fs layer \n",
      "\u001b[1B1b108245: Pulling fs layer \n",
      "\u001b[38B5bfbc9d: Waiting fs layer \n",
      "\u001b[1B04f66430: Pulling fs layer \n",
      "\u001b[39B7d9ff4b: Waiting fs layer \n",
      "\u001b[1B7506c5e2: Pull complete .51kB/13.51kBB\u001b[45A\u001b[2K\u001b[47A\u001b[2K\u001b[45A\u001b[2K\u001b[47A\u001b[2K\u001b[45A\u001b[2K\u001b[47A\u001b[2K\u001b[45A\u001b[2K\u001b[47A\u001b[2K\u001b[46A\u001b[2K\u001b[47A\u001b[2K\u001b[46A\u001b[2K\u001b[47A\u001b[2K\u001b[46A\u001b[2K\u001b[47A\u001b[2K\u001b[45A\u001b[2K\u001b[47A\u001b[2K\u001b[41A\u001b[2K\u001b[40A\u001b[2K\u001b[45A\u001b[2K\u001b[45A\u001b[2K\u001b[38A\u001b[2K\u001b[43A\u001b[2K\u001b[38A\u001b[2K\u001b[37A\u001b[2K\u001b[38A\u001b[2K\u001b[37A\u001b[2K\u001b[38A\u001b[2K\u001b[37A\u001b[2K\u001b[38A\u001b[2K\u001b[37A\u001b[2K\u001b[36A\u001b[2K\u001b[37A\u001b[2K\u001b[35A\u001b[2K\u001b[37A\u001b[2K\u001b[35A\u001b[2K\u001b[47A\u001b[2K\u001b[37A\u001b[2K\u001b[43A\u001b[2K\u001b[46A\u001b[2K\u001b[43A\u001b[2K\u001b[35A\u001b[2K\u001b[43A\u001b[2K\u001b[35A\u001b[2K\u001b[43A\u001b[2K\u001b[35A\u001b[2K\u001b[43A\u001b[2K\u001b[35A\u001b[2K\u001b[43A\u001b[2K\u001b[33A\u001b[2K\u001b[43A\u001b[2K\u001b[33A\u001b[2K\u001b[43A\u001b[2K\u001b[35A\u001b[2K\u001b[43A\u001b[2K\u001b[33A\u001b[2K\u001b[43A\u001b[2K\u001b[33A\u001b[2K\u001b[43A\u001b[2K\u001b[35A\u001b[2K\u001b[46A\u001b[2K\u001b[33A\u001b[2K\u001b[43A\u001b[2K\u001b[35A\u001b[2K\u001b[43A\u001b[2K\u001b[35A\u001b[2K\u001b[31A\u001b[2K\u001b[35A\u001b[2K\u001b[31A\u001b[2K\u001b[35A\u001b[2KDownloading  250.4MB/458.4MB\u001b[35A\u001b[2K\u001b[46A\u001b[2K\u001b[43A\u001b[2K\u001b[46A\u001b[2K\u001b[35A\u001b[2K\u001b[46A\u001b[2K\u001b[35A\u001b[2K\u001b[35A\u001b[2K\u001b[35A\u001b[2K\u001b[35A\u001b[2K\u001b[35A\u001b[2K\u001b[35A\u001b[2K\u001b[31A\u001b[2K\u001b[35A\u001b[2K\u001b[30A\u001b[2K\u001b[43A\u001b[2K\u001b[30A\u001b[2K\u001b[35A\u001b[2K\u001b[30A\u001b[2K\u001b[43A\u001b[2K\u001b[30A\u001b[2K\u001b[43A\u001b[2K\u001b[30A\u001b[2K\u001b[43A\u001b[2K\u001b[28A\u001b[2K\u001b[43A\u001b[2K\u001b[27A\u001b[2K\u001b[43A\u001b[2K\u001b[27A\u001b[2K\u001b[43A\u001b[2K\u001b[29A\u001b[2K\u001b[43A\u001b[2K\u001b[29A\u001b[2K\u001b[43A\u001b[2K\u001b[27A\u001b[2K\u001b[26A\u001b[2K\u001b[27A\u001b[2K\u001b[43A\u001b[2K\u001b[27A\u001b[2K\u001b[43A\u001b[2K\u001b[27A\u001b[2K\u001b[43A\u001b[2K\u001b[25A\u001b[2K\u001b[43A\u001b[2K\u001b[25A\u001b[2K\u001b[43A\u001b[2K\u001b[25A\u001b[2K\u001b[43A\u001b[2K\u001b[25A\u001b[2K\u001b[43A\u001b[2K\u001b[46A\u001b[2K\u001b[24A\u001b[2K\u001b[23A\u001b[2K\u001b[43A\u001b[2K\u001b[27A\u001b[2K\u001b[43A\u001b[2K\u001b[27A\u001b[2K\u001b[43A\u001b[2K\u001b[27A\u001b[2K\u001b[43A\u001b[2K\u001b[27A\u001b[2K\u001b[43A\u001b[2K\u001b[27A\u001b[2K\u001b[43A\u001b[2K\u001b[27A\u001b[2K\u001b[43A\u001b[2K\u001b[27A\u001b[2K\u001b[43A\u001b[2K\u001b[27A\u001b[2K\u001b[43A\u001b[2K\u001b[27A\u001b[2K\u001b[43A\u001b[2K\u001b[27A\u001b[2K\u001b[43A\u001b[2K\u001b[27A\u001b[2K\u001b[43A\u001b[2K\u001b[22A\u001b[2K\u001b[43A\u001b[2K\u001b[27A\u001b[2K\u001b[43A\u001b[2K\u001b[45A\u001b[2K\u001b[27A\u001b[2K\u001b[45A\u001b[2K\u001b[43A\u001b[2K\u001b[45A\u001b[2K\u001b[27A\u001b[2K\u001b[22A\u001b[2K\u001b[43A\u001b[2K\u001b[22A\u001b[2K\u001b[27A\u001b[2K\u001b[22A\u001b[2K\u001b[43A\u001b[2K\u001b[22A\u001b[2K\u001b[45A\u001b[2K\u001b[22A\u001b[2K\u001b[43A\u001b[2K\u001b[27A\u001b[2K\u001b[43A\u001b[2K\u001b[27A\u001b[2K\u001b[45A\u001b[2K\u001b[27A\u001b[2K\u001b[43A\u001b[2K\u001b[45A\u001b[2K\u001b[43A\u001b[2K\u001b[22A\u001b[2K\u001b[27A\u001b[2K\u001b[22A\u001b[2K\u001b[27A\u001b[2K\u001b[45A\u001b[2K\u001b[43A\u001b[2K\u001b[22A\u001b[2K\u001b[43A\u001b[2K\u001b[27A\u001b[2K\u001b[43A\u001b[2K\u001b[27A\u001b[2K\u001b[43A\u001b[2K\u001b[45A\u001b[2K\u001b[22A\u001b[2K\u001b[27A\u001b[2K\u001b[27A\u001b[2K\u001b[43A\u001b[2K\u001b[27A\u001b[2K\u001b[45A\u001b[2K\u001b[27A\u001b[2K\u001b[43A\u001b[2K\u001b[27A\u001b[2K\u001b[45A\u001b[2K\u001b[43A\u001b[2K\u001b[45A\u001b[2K\u001b[22A\u001b[2K\u001b[43A\u001b[2K\u001b[22A\u001b[2K\u001b[43A\u001b[2K\u001b[27A\u001b[2K\u001b[22A\u001b[2K\u001b[43A\u001b[2K\u001b[27A\u001b[2K\u001b[45A\u001b[2K\u001b[43A\u001b[2K\u001b[22A\u001b[2K\u001b[27A\u001b[2K\u001b[45A\u001b[2K\u001b[27A\u001b[2K\u001b[27A\u001b[2K\u001b[43A\u001b[2K\u001b[45A\u001b[2K\u001b[43A\u001b[2K\u001b[45A\u001b[2K\u001b[27A\u001b[2K\u001b[45A\u001b[2K\u001b[27A\u001b[2K\u001b[43A\u001b[2K\u001b[22A\u001b[2K\u001b[43A\u001b[2K\u001b[45A\u001b[2K\u001b[27A\u001b[2K\u001b[45A\u001b[2K\u001b[22A\u001b[2K\u001b[27A\u001b[2K\u001b[22A\u001b[2K\u001b[43A\u001b[2K\u001b[45A\u001b[2K\u001b[22A\u001b[2K\u001b[45A\u001b[2K\u001b[45A\u001b[2K\u001b[27A\u001b[2K\u001b[43A\u001b[2K\u001b[27A\u001b[2K\u001b[43A\u001b[2K\u001b[22A\u001b[2K\u001b[45A\u001b[2K\u001b[22A\u001b[2K\u001b[45A\u001b[2K\u001b[22A\u001b[2K\u001b[27A\u001b[2K\u001b[45A\u001b[2K\u001b[43A\u001b[2K\u001b[27A\u001b[2K\u001b[22A\u001b[2K\u001b[43A\u001b[2K\u001b[27A\u001b[2K\u001b[22A\u001b[2K\u001b[45A\u001b[2K\u001b[43A\u001b[2K\u001b[27A\u001b[2K\u001b[43A\u001b[2K\u001b[27A\u001b[2K\u001b[43A\u001b[2K\u001b[22A\u001b[2K\u001b[43A\u001b[2K\u001b[22A\u001b[2K\u001b[27A\u001b[2K\u001b[27A\u001b[2K\u001b[43A\u001b[2K\u001b[22A\u001b[2K\u001b[27A\u001b[2K\u001b[22A\u001b[2K\u001b[43A\u001b[2K\u001b[22A\u001b[2K\u001b[27A\u001b[2K\u001b[22A\u001b[2K\u001b[43A\u001b[2K\u001b[22A\u001b[2K\u001b[43A\u001b[2K\u001b[22A\u001b[2K\u001b[22A\u001b[2K\u001b[21A\u001b[2K\u001b[45A\u001b[2K\u001b[43A\u001b[2K\u001b[20A\u001b[2K\u001b[43A\u001b[2K\u001b[20A\u001b[2K\u001b[20A\u001b[2K\u001b[43A\u001b[2K\u001b[19A\u001b[2K\u001b[43A\u001b[2K\u001b[19A\u001b[2K\u001b[45A\u001b[2K\u001b[43A\u001b[2K\u001b[45A\u001b[2K\u001b[19A\u001b[2K\u001b[27A\u001b[2K\u001b[27A\u001b[2K\u001b[18A\u001b[2K\u001b[45A\u001b[2K\u001b[27A\u001b[2K\u001b[18A\u001b[2K\u001b[27A\u001b[2K\u001b[18A\u001b[2K\u001b[27A\u001b[2K\u001b[18A\u001b[2K\u001b[45A\u001b[2K\u001b[18A\u001b[2K\u001b[27A\u001b[2K\u001b[18A\u001b[2K\u001b[27A\u001b[2K\u001b[43A\u001b[2K\u001b[18A\u001b[2K\u001b[27A\u001b[2K\u001b[18A\u001b[2K\u001b[45A\u001b[2K\u001b[27A\u001b[2K\u001b[27A\u001b[2K\u001b[18A\u001b[2K\u001b[27A\u001b[2K\u001b[43A\u001b[2K\u001b[27A\u001b[2K\u001b[18A\u001b[2K\u001b[27A\u001b[2K\u001b[18A\u001b[2K\u001b[45A\u001b[2K\u001b[18A\u001b[2K\u001b[45A\u001b[2K\u001b[18A\u001b[2K\u001b[43A\u001b[2K\u001b[27A\u001b[2K\u001b[43A\u001b[2K\u001b[27A\u001b[2K\u001b[18A\u001b[2K\u001b[43A\u001b[2K\u001b[18A\u001b[2K\u001b[45A\u001b[2K\u001b[27A\u001b[2K\u001b[27A\u001b[2K\u001b[18A\u001b[2K\u001b[27A\u001b[2K\u001b[18A\u001b[2K\u001b[43A\u001b[2K\u001b[27A\u001b[2K\u001b[45A\u001b[2K\u001b[18A\u001b[2K\u001b[27A\u001b[2K\u001b[43A\u001b[2K\u001b[27A\u001b[2K\u001b[43A\u001b[2K\u001b[27A\u001b[2K\u001b[43A\u001b[2K\u001b[27A\u001b[2K\u001b[43A\u001b[2K\u001b[18A\u001b[2K\u001b[45A\u001b[2K\u001b[43A\u001b[2K\u001b[27A\u001b[2K\u001b[45A\u001b[2K\u001b[27A\u001b[2K\u001b[43A\u001b[2K\u001b[18A\u001b[2K\u001b[27A\u001b[2K\u001b[18A\u001b[2K\u001b[45A\u001b[2K\u001b[18A\u001b[2K\u001b[27A\u001b[2K\u001b[18A\u001b[2K\u001b[27A\u001b[2K\u001b[45A\u001b[2K\u001b[27A\u001b[2K\u001b[43A\u001b[2K\u001b[18A\u001b[2K\u001b[45A\u001b[2K\u001b[18A\u001b[2K\u001b[18A\u001b[2K\u001b[27A\u001b[2K\u001b[45A\u001b[2K\u001b[18A\u001b[2K\u001b[18A\u001b[2K\u001b[45A\u001b[2K\u001b[18A\u001b[2K\u001b[18A\u001b[2K\u001b[45A\u001b[2K\u001b[18A\u001b[2K\u001b[27A\u001b[2K\u001b[45A\u001b[2K\u001b[43A\u001b[2K\u001b[27A\u001b[2K\u001b[45A\u001b[2K\u001b[27A\u001b[2K\u001b[18A\u001b[2K\u001b[27A\u001b[2K\u001b[18A\u001b[2K\u001b[43A\u001b[2K\u001b[18A\u001b[2K\u001b[43A\u001b[2K\u001b[45A\u001b[2K\u001b[43A\u001b[2K\u001b[18A\u001b[2K\u001b[43A\u001b[2K\u001b[45A\u001b[2K\u001b[43A\u001b[2K\u001b[27A\u001b[2K\u001b[43A\u001b[2K\u001b[27A\u001b[2K\u001b[43A\u001b[2K\u001b[18A\u001b[2K\u001b[27A\u001b[2K\u001b[18A\u001b[2K\u001b[27A\u001b[2K\u001b[18A\u001b[2K\u001b[27A\u001b[2K\u001b[43A\u001b[2K\u001b[27A\u001b[2K\u001b[43A\u001b[2K\u001b[18A\u001b[2K\u001b[43A\u001b[2K\u001b[18A\u001b[2K\u001b[27A\u001b[2K\u001b[18A\u001b[2K\u001b[43A\u001b[2K\u001b[18A\u001b[2K\u001b[43A\u001b[2K\u001b[45A\u001b[2K\u001b[27A\u001b[2K\u001b[18A\u001b[2K\u001b[27A\u001b[2K\u001b[43A\u001b[2K\u001b[27A\u001b[2KDownloading  295.3MB/375MB\u001b[45A\u001b[2K\u001b[27A\u001b[2K\u001b[27A\u001b[2K\u001b[27A\u001b[2K\u001b[43A\u001b[2K\u001b[45A\u001b[2K\u001b[27A\u001b[2K\u001b[27A\u001b[2K\u001b[45A\u001b[2K\u001b[27A\u001b[2K\u001b[27A\u001b[2K\u001b[45A\u001b[2K\u001b[43A\u001b[2K\u001b[18A\u001b[2K\u001b[27A\u001b[2K\u001b[43A\u001b[2K\u001b[27A\u001b[2K\u001b[43A\u001b[2K\u001b[18A\u001b[2K\u001b[45A\u001b[2K\u001b[18A\u001b[2K\u001b[45A\u001b[2K\u001b[43A\u001b[2K\u001b[18A\u001b[2K\u001b[43A\u001b[2K\u001b[27A\u001b[2K\u001b[43A\u001b[2K\u001b[27A\u001b[2K\u001b[43A\u001b[2K\u001b[45A\u001b[2K\u001b[43A\u001b[2K\u001b[18A\u001b[2K\u001b[27A\u001b[2K\u001b[45A\u001b[2K\u001b[27A\u001b[2K\u001b[43A\u001b[2K\u001b[27A\u001b[2K\u001b[16A\u001b[2K\u001b[27A\u001b[2K\u001b[15A\u001b[2K\u001b[27A\u001b[2K\u001b[15A\u001b[2K\u001b[27A\u001b[2K\u001b[13A\u001b[2K\u001b[27A\u001b[2K\u001b[13A\u001b[2K\u001b[13A\u001b[2K\u001b[12A\u001b[2K\u001b[11A\u001b[2K\u001b[10A\u001b[2K\u001b[9A\u001b[2K\u001b[43A\u001b[2K\u001b[45A\u001b[2K\u001b[27A\u001b[2K\u001b[45A\u001b[2K\u001b[27A\u001b[2K\u001b[27A\u001b[2K\u001b[43A\u001b[2K\u001b[5A\u001b[2K\u001b[4A\u001b[2K\u001b[27A\u001b[2K\u001b[3A\u001b[2K\u001b[27A\u001b[2K\u001b[3A\u001b[2K\u001b[27A\u001b[2K\u001b[3A\u001b[2K\u001b[43A\u001b[2K\u001b[3A\u001b[2K\u001b[43A\u001b[2K\u001b[27A\u001b[2K\u001b[43A\u001b[2K\u001b[27A\u001b[2K\u001b[3A\u001b[2K\u001b[43A\u001b[2K\u001b[27A\u001b[2K\u001b[3A\u001b[2K\u001b[27A\u001b[2K\u001b[3A\u001b[2K\u001b[27A\u001b[2K\u001b[3A\u001b[2K\u001b[27A\u001b[2K\u001b[2A\u001b[2K\u001b[1A\u001b[2K\u001b[27A\u001b[2K\u001b[43A\u001b[2K\u001b[27A\u001b[2K\u001b[43A\u001b[2K\u001b[27A\u001b[2K\u001b[43A\u001b[2K\u001b[27A\u001b[2K\u001b[43A\u001b[2K\u001b[27A\u001b[2K\u001b[27A\u001b[2K\u001b[44A\u001b[2K\u001b[27A\u001b[2K\u001b[43A\u001b[2K\u001b[27A\u001b[2K\u001b[43A\u001b[2K\u001b[27A\u001b[2K\u001b[43A\u001b[2K\u001b[27A\u001b[2K\u001b[43A\u001b[2K\u001b[27A\u001b[2K\u001b[43A\u001b[2K\u001b[27A\u001b[2K\u001b[43A\u001b[2K\u001b[27A\u001b[2K\u001b[27A\u001b[2K\u001b[43A\u001b[2K\u001b[27A\u001b[2K\u001b[43A\u001b[2K\u001b[27A\u001b[2K\u001b[43A\u001b[2K\u001b[27A\u001b[2K\u001b[27A\u001b[2K\u001b[27A\u001b[2K\u001b[43A\u001b[2K\u001b[27A\u001b[2K\u001b[27A\u001b[2K\u001b[43A\u001b[2K\u001b[27A\u001b[2K\u001b[43A\u001b[2K\u001b[27A\u001b[2K\u001b[43A\u001b[2K\u001b[27A\u001b[2K\u001b[43A\u001b[2K\u001b[27A\u001b[2K\u001b[43A\u001b[2K\u001b[27A\u001b[2K\u001b[43A\u001b[2K\u001b[43A\u001b[2K\u001b[27A\u001b[2K\u001b[43A\u001b[2K\u001b[27A\u001b[2K\u001b[43A\u001b[2K\u001b[27A\u001b[2K\u001b[43A\u001b[2K\u001b[27A\u001b[2K\u001b[43A\u001b[2K\u001b[27A\u001b[2K\u001b[43A\u001b[2K\u001b[27A\u001b[2K\u001b[43A\u001b[2K\u001b[43A\u001b[2K\u001b[27A\u001b[2K\u001b[43A\u001b[2K\u001b[27A\u001b[2K\u001b[27A\u001b[2K\u001b[27A\u001b[2K\u001b[27A\u001b[2K\u001b[27A\u001b[2K\u001b[27A\u001b[2K\u001b[43A\u001b[2K\u001b[43A\u001b[2K\u001b[27A\u001b[2K\u001b[27A\u001b[2K\u001b[43A\u001b[2K\u001b[43A\u001b[2K\u001b[43A\u001b[2K\u001b[27A\u001b[2K\u001b[43A\u001b[2K\u001b[43A\u001b[2K\u001b[43A\u001b[2K\u001b[43A\u001b[2K\u001b[43A\u001b[2K\u001b[43A\u001b[2K\u001b[43A\u001b[2K\u001b[43A\u001b[2K\u001b[27A\u001b[2K\u001b[43A\u001b[2K\u001b[27A\u001b[2K\u001b[43A\u001b[2K\u001b[43A\u001b[2K\u001b[43A\u001b[2K\u001b[43A\u001b[2K\u001b[27A\u001b[2K\u001b[43A\u001b[2K\u001b[27A\u001b[2K\u001b[43A\u001b[2K\u001b[27A\u001b[2K\u001b[43A\u001b[2K\u001b[27A\u001b[2K\u001b[43A\u001b[2K\u001b[43A\u001b[2K\u001b[43A\u001b[2K\u001b[27A\u001b[2K\u001b[43A\u001b[2K\u001b[43A\u001b[2K\u001b[27A\u001b[2K\u001b[27A\u001b[2K\u001b[43A\u001b[2K\u001b[27A\u001b[2K\u001b[43A\u001b[2K\u001b[27A\u001b[2K\u001b[43A\u001b[2K\u001b[27A\u001b[2K\u001b[43A\u001b[2K\u001b[27A\u001b[2K\u001b[27A\u001b[2K\u001b[43A\u001b[2K\u001b[27A\u001b[2K\u001b[43A\u001b[2K\u001b[27A\u001b[2K\u001b[43A\u001b[2K\u001b[27A\u001b[2K\u001b[27A\u001b[2K\u001b[43A\u001b[2K\u001b[27A\u001b[2K\u001b[43A\u001b[2K\u001b[43A\u001b[2K\u001b[43A\u001b[2K\u001b[43A\u001b[2K\u001b[27A\u001b[2K\u001b[27A\u001b[2K\u001b[43A\u001b[2K\u001b[27A\u001b[2K\u001b[27A\u001b[2K\u001b[43A\u001b[2K\u001b[27A\u001b[2K\u001b[43A\u001b[2K\u001b[27A\u001b[2K\u001b[43A\u001b[2K\u001b[27A\u001b[2K\u001b[43A\u001b[2K\u001b[27A\u001b[2K\u001b[43A\u001b[2K\u001b[27A\u001b[2K\u001b[43A\u001b[2K\u001b[27A\u001b[2K\u001b[27A\u001b[2K\u001b[43A\u001b[2KDownload complete \u001b[43A\u001b[2K\u001b[43A\u001b[2K\u001b[43A\u001b[2K\u001b[43A\u001b[2K\u001b[43A\u001b[2K\u001b[43A\u001b[2K\u001b[43A\u001b[2K\u001b[43A\u001b[2K\u001b[43A\u001b[2K\u001b[43A\u001b[2K\u001b[43A\u001b[2K\u001b[43A\u001b[2K\u001b[43A\u001b[2K\u001b[43A\u001b[2K\u001b[43A\u001b[2K\u001b[43A\u001b[2K\u001b[43A\u001b[2K\u001b[43A\u001b[2K\u001b[43A\u001b[2K\u001b[43A\u001b[2K\u001b[43A\u001b[2K\u001b[43A\u001b[2K\u001b[43A\u001b[2K\u001b[43A\u001b[2K\u001b[43A\u001b[2K\u001b[43A\u001b[2K\u001b[43A\u001b[2K\u001b[43A\u001b[2K\u001b[43A\u001b[2K\u001b[43A\u001b[2K\u001b[43A\u001b[2K\u001b[43A\u001b[2K\u001b[43A\u001b[2K\u001b[43A\u001b[2K\u001b[43A\u001b[2K\u001b[43A\u001b[2K\u001b[43A\u001b[2K\u001b[43A\u001b[2K\u001b[43A\u001b[2K\u001b[43A\u001b[2K\u001b[43A\u001b[2K\u001b[43A\u001b[2K\u001b[43A\u001b[2K\u001b[43A\u001b[2K\u001b[43A\u001b[2K\u001b[43A\u001b[2K\u001b[43A\u001b[2K\u001b[43A\u001b[2K\u001b[43A\u001b[2K\u001b[43A\u001b[2K\u001b[43A\u001b[2K\u001b[43A\u001b[2K\u001b[43A\u001b[2K\u001b[43A\u001b[2K\u001b[43A\u001b[2K\u001b[43A\u001b[2K\u001b[43A\u001b[2K\u001b[43A\u001b[2K\u001b[43A\u001b[2K\u001b[43A\u001b[2K\u001b[43A\u001b[2K\u001b[43A\u001b[2K\u001b[43A\u001b[2K\u001b[43A\u001b[2K\u001b[43A\u001b[2K\u001b[43A\u001b[2K\u001b[43A\u001b[2K\u001b[43A\u001b[2K\u001b[43A\u001b[2K\u001b[43A\u001b[2K\u001b[43A\u001b[2K\u001b[43A\u001b[2K\u001b[43A\u001b[2K\u001b[43A\u001b[2K\u001b[43A\u001b[2K\u001b[43A\u001b[2K\u001b[43A\u001b[2K\u001b[43A\u001b[2K\u001b[43A\u001b[2K\u001b[43A\u001b[2K\u001b[43A\u001b[2K\u001b[43A\u001b[2K\u001b[43A\u001b[2K\u001b[43A\u001b[2K\u001b[43A\u001b[2K\u001b[43A\u001b[2K\u001b[43A\u001b[2K\u001b[43A\u001b[2K\u001b[43A\u001b[2K\u001b[43A\u001b[2K\u001b[43A\u001b[2K\u001b[43A\u001b[2K\u001b[43A\u001b[2K\u001b[43A\u001b[2K\u001b[43A\u001b[2K\u001b[43A\u001b[2K\u001b[43A\u001b[2K\u001b[43A\u001b[2K\u001b[43A\u001b[2K\u001b[43A\u001b[2K\u001b[43A\u001b[2K\u001b[43A\u001b[2K\u001b[43A\u001b[2K\u001b[43A\u001b[2K\u001b[43A\u001b[2K\u001b[43A\u001b[2K\u001b[43A\u001b[2K\u001b[43A\u001b[2K\u001b[43A\u001b[2K\u001b[43A\u001b[2K\u001b[43A\u001b[2K\u001b[43A\u001b[2K\u001b[43A\u001b[2K\u001b[43A\u001b[2K\u001b[43A\u001b[2K\u001b[43A\u001b[2K\u001b[43A\u001b[2K\u001b[43A\u001b[2K\u001b[43A\u001b[2K\u001b[43A\u001b[2K\u001b[43A\u001b[2K\u001b[43A\u001b[2K\u001b[43A\u001b[2K\u001b[43A\u001b[2K\u001b[43A\u001b[2K\u001b[43A\u001b[2K\u001b[43A\u001b[2K\u001b[43A\u001b[2K\u001b[43A\u001b[2K\u001b[43A\u001b[2K\u001b[43A\u001b[2K\u001b[43A\u001b[2K\u001b[43A\u001b[2K\u001b[43A\u001b[2K\u001b[43A\u001b[2K\u001b[43A\u001b[2K\u001b[43A\u001b[2K\u001b[43A\u001b[2K\u001b[43A\u001b[2K\u001b[43A\u001b[2K\u001b[43A\u001b[2K\u001b[43A\u001b[2K\u001b[43A\u001b[2K\u001b[43A\u001b[2K\u001b[43A\u001b[2K\u001b[43A\u001b[2K\u001b[43A\u001b[2K\u001b[43A\u001b[2K\u001b[43A\u001b[2K\u001b[43A\u001b[2K\u001b[43A\u001b[2K\u001b[43A\u001b[2K\u001b[43A\u001b[2K\u001b[43A\u001b[2K\u001b[43A\u001b[2K\u001b[43A\u001b[2K\u001b[43A\u001b[2K\u001b[43A\u001b[2K\u001b[43A\u001b[2K\u001b[43A\u001b[2K\u001b[43A\u001b[2K\u001b[43A\u001b[2K\u001b[43A\u001b[2K\u001b[43A\u001b[2K\u001b[43A\u001b[2K\u001b[43A\u001b[2K\u001b[43A\u001b[2K\u001b[43A\u001b[2K\u001b[43A\u001b[2K\u001b[43A\u001b[2K\u001b[43A\u001b[2K\u001b[43A\u001b[2K\u001b[43A\u001b[2K\u001b[43A\u001b[2K\u001b[43A\u001b[2K\u001b[43A\u001b[2K\u001b[43A\u001b[2K\u001b[43A\u001b[2K\u001b[43A\u001b[2K\u001b[43A\u001b[2K\u001b[43A\u001b[2K\u001b[43A\u001b[2K\u001b[43A\u001b[2K\u001b[43A\u001b[2K\u001b[43A\u001b[2K\u001b[43A\u001b[2K\u001b[43A\u001b[2K\u001b[43A\u001b[2K\u001b[43A\u001b[2K\u001b[43A\u001b[2K\u001b[43A\u001b[2K\u001b[43A\u001b[2K\u001b[43A\u001b[2K\u001b[43A\u001b[2K\u001b[43A\u001b[2K\u001b[43A\u001b[2K\u001b[43A\u001b[2K\u001b[43A\u001b[2K\u001b[43A\u001b[2K\u001b[43A\u001b[2K\u001b[43A\u001b[2K\u001b[43A\u001b[2K\u001b[43A\u001b[2K\u001b[43A\u001b[2K\u001b[43A\u001b[2K\u001b[43A\u001b[2K\u001b[43A\u001b[2K\u001b[43A\u001b[2K\u001b[43A\u001b[2K\u001b[43A\u001b[2K\u001b[43A\u001b[2K\u001b[43A\u001b[2K\u001b[43A\u001b[2K\u001b[43A\u001b[2K\u001b[43A\u001b[2K\u001b[43A\u001b[2K\u001b[43A\u001b[2K\u001b[43A\u001b[2K\u001b[43A\u001b[2K\u001b[43A\u001b[2K\u001b[43A\u001b[2K\u001b[43A\u001b[2K\u001b[43A\u001b[2K\u001b[43A\u001b[2K\u001b[43A\u001b[2K\u001b[43A\u001b[2K\u001b[43A\u001b[2K\u001b[43A\u001b[2K\u001b[43A\u001b[2K\u001b[43A\u001b[2K\u001b[43A\u001b[2K\u001b[43A\u001b[2K\u001b[43A\u001b[2K\u001b[43A\u001b[2K\u001b[43A\u001b[2K\u001b[43A\u001b[2K\u001b[43A\u001b[2K\u001b[43A\u001b[2K\u001b[43A\u001b[2K\u001b[43A\u001b[2K\u001b[43A\u001b[2K\u001b[43A\u001b[2K\u001b[43A\u001b[2K\u001b[43A\u001b[2K\u001b[43A\u001b[2K\u001b[43A\u001b[2K\u001b[43A\u001b[2K\u001b[43A\u001b[2K\u001b[43A\u001b[2K\u001b[43A\u001b[2K\u001b[43A\u001b[2K\u001b[43A\u001b[2K\u001b[43A\u001b[2K\u001b[43A\u001b[2K\u001b[43A\u001b[2K\u001b[43A\u001b[2K\u001b[43A\u001b[2K\u001b[43A\u001b[2K\u001b[43A\u001b[2K\u001b[43A\u001b[2K\u001b[43A\u001b[2K\u001b[43A\u001b[2K\u001b[43A\u001b[2K\u001b[43A\u001b[2K\u001b[43A\u001b[2K\u001b[43A\u001b[2K\u001b[43A\u001b[2K\u001b[43A\u001b[2K\u001b[43A\u001b[2K\u001b[43A\u001b[2K\u001b[43A\u001b[2K\u001b[43A\u001b[2K\u001b[43A\u001b[2K\u001b[43A\u001b[2K\u001b[43A\u001b[2K\u001b[43A\u001b[2K\u001b[43A\u001b[2K\u001b[43A\u001b[2K\u001b[43A\u001b[2K\u001b[43A\u001b[2K\u001b[43A\u001b[2K\u001b[43A\u001b[2K\u001b[43A\u001b[2K\u001b[43A\u001b[2K\u001b[43A\u001b[2K\u001b[43A\u001b[2K\u001b[43A\u001b[2K\u001b[43A\u001b[2K\u001b[43A\u001b[2K\u001b[43A\u001b[2K\u001b[43A\u001b[2K\u001b[43A\u001b[2K\u001b[43A\u001b[2K\u001b[43A\u001b[2K\u001b[43A\u001b[2K\u001b[43A\u001b[2K\u001b[43A\u001b[2K\u001b[43A\u001b[2K\u001b[43A\u001b[2K\u001b[43A\u001b[2K\u001b[43A\u001b[2K\u001b[43A\u001b[2K\u001b[43A\u001b[2K\u001b[43A\u001b[2K\u001b[43A\u001b[2K\u001b[43A\u001b[2K\u001b[43A\u001b[2K\u001b[43A\u001b[2K\u001b[43A\u001b[2K\u001b[43A\u001b[2K\u001b[43A\u001b[2K\u001b[43A\u001b[2K\u001b[43A\u001b[2K\u001b[43A\u001b[2K\u001b[43A\u001b[2K\u001b[43A\u001b[2K\u001b[43A\u001b[2K\u001b[43A\u001b[2K\u001b[43A\u001b[2K\u001b[43A\u001b[2K\u001b[43A\u001b[2K\u001b[43A\u001b[2K\u001b[43A\u001b[2K\u001b[43A\u001b[2K\u001b[43A\u001b[2K\u001b[43A\u001b[2K\u001b[43A\u001b[2K\u001b[43A\u001b[2K\u001b[43A\u001b[2K\u001b[43A\u001b[2K\u001b[43A\u001b[2K\u001b[43A\u001b[2K\u001b[43A\u001b[2K\u001b[43A\u001b[2K\u001b[43A\u001b[2K\u001b[43A\u001b[2K\u001b[43A\u001b[2K\u001b[43A\u001b[2K\u001b[43A\u001b[2K\u001b[43A\u001b[2K\u001b[43A\u001b[2K\u001b[43A\u001b[2K\u001b[43A\u001b[2K\u001b[43A\u001b[2K\u001b[43A\u001b[2K\u001b[43A\u001b[2K\u001b[43A\u001b[2K\u001b[43A\u001b[2K\u001b[43A\u001b[2K\u001b[43A\u001b[2K\u001b[43A\u001b[2K\u001b[43A\u001b[2K\u001b[43A\u001b[2K\u001b[43A\u001b[2K\u001b[43A\u001b[2K\u001b[43A\u001b[2K\u001b[43A\u001b[2K\u001b[43A\u001b[2K\u001b[43A\u001b[2K\u001b[43A\u001b[2K\u001b[43A\u001b[2K\u001b[43A\u001b[2K\u001b[43A\u001b[2K\u001b[43A\u001b[2K\u001b[43A\u001b[2K\u001b[43A\u001b[2K\u001b[43A\u001b[2K\u001b[43A\u001b[2K\u001b[43A\u001b[2K\u001b[43A\u001b[2K\u001b[43A\u001b[2K\u001b[43A\u001b[2K\u001b[43A\u001b[2K\u001b[43A\u001b[2K\u001b[43A\u001b[2K\u001b[43A\u001b[2K\u001b[43A\u001b[2K\u001b[43A\u001b[2K\u001b[43A\u001b[2K\u001b[43A\u001b[2K\u001b[43A\u001b[2K\u001b[43A\u001b[2K\u001b[43A\u001b[2K\u001b[43A\u001b[2K\u001b[43A\u001b[2K\u001b[43A\u001b[2K\u001b[43A\u001b[2K\u001b[43A\u001b[2K\u001b[43A\u001b[2K\u001b[43A\u001b[2K\u001b[43A\u001b[2K\u001b[43A\u001b[2K\u001b[43A\u001b[2K\u001b[43A\u001b[2K\u001b[43A\u001b[2K\u001b[43A\u001b[2K\u001b[43A\u001b[2K\u001b[43A\u001b[2K\u001b[43A\u001b[2K\u001b[43A\u001b[2K\u001b[43A\u001b[2K\u001b[43A\u001b[2K\u001b[43A\u001b[2K\u001b[43A\u001b[2K\u001b[43A\u001b[2K\u001b[43A\u001b[2K\u001b[43A\u001b[2K\u001b[43A\u001b[2K\u001b[43A\u001b[2K\u001b[43A\u001b[2K\u001b[43A\u001b[2K\u001b[43A\u001b[2K\u001b[43A\u001b[2K\u001b[43A\u001b[2K\u001b[43A\u001b[2K\u001b[43A\u001b[2K\u001b[43A\u001b[2K\u001b[43A\u001b[2K\u001b[43A\u001b[2K\u001b[43A\u001b[2K\u001b[43A\u001b[2K\u001b[43A\u001b[2K\u001b[43A\u001b[2K\u001b[43A\u001b[2K\u001b[43A\u001b[2K\u001b[43A\u001b[2K\u001b[43A\u001b[2K\u001b[43A\u001b[2K\u001b[43A\u001b[2K\u001b[43A\u001b[2K\u001b[43A\u001b[2K\u001b[43A\u001b[2K\u001b[43A\u001b[2K\u001b[43A\u001b[2K\u001b[43A\u001b[2K\u001b[43A\u001b[2K\u001b[43A\u001b[2K\u001b[43A\u001b[2K\u001b[43A\u001b[2K\u001b[43A\u001b[2K\u001b[43A\u001b[2K\u001b[43A\u001b[2K\u001b[43A\u001b[2K\u001b[43A\u001b[2K\u001b[43A\u001b[2K\u001b[43A\u001b[2K\u001b[43A\u001b[2K\u001b[43A\u001b[2K\u001b[43A\u001b[2K\u001b[43A\u001b[2K\u001b[43A\u001b[2K\u001b[43A\u001b[2K\u001b[43A\u001b[2K\u001b[43A\u001b[2K\u001b[43A\u001b[2K\u001b[43A\u001b[2K\u001b[42A\u001b[2K\u001b[42A\u001b[2K\u001b[41A\u001b[2K\u001b[41A\u001b[2K\u001b[40A\u001b[2K\u001b[40A\u001b[2K\u001b[39A\u001b[2K\u001b[39A\u001b[2K\u001b[38A\u001b[2K\u001b[38A\u001b[2K\u001b[38A\u001b[2K\u001b[38A\u001b[2K\u001b[38A\u001b[2K\u001b[38A\u001b[2K\u001b[38A\u001b[2K\u001b[38A\u001b[2K\u001b[38A\u001b[2K\u001b[38A\u001b[2K\u001b[37A\u001b[2K\u001b[37A\u001b[2K\u001b[37A\u001b[2K\u001b[37A\u001b[2K\u001b[37A\u001b[2K\u001b[37A\u001b[2K\u001b[37A\u001b[2K\u001b[37A\u001b[2K\u001b[37A\u001b[2K\u001b[37A\u001b[2K\u001b[37A\u001b[2K\u001b[37A\u001b[2K\u001b[37A\u001b[2K\u001b[37A\u001b[2K\u001b[37A\u001b[2K\u001b[37A\u001b[2K\u001b[36A\u001b[2K\u001b[36A\u001b[2K\u001b[35A\u001b[2K\u001b[35A\u001b[2K\u001b[35A\u001b[2K\u001b[35A\u001b[2K\u001b[35A\u001b[2K\u001b[35A\u001b[2K\u001b[35A\u001b[2K\u001b[35A\u001b[2K\u001b[35A\u001b[2K\u001b[35A\u001b[2K\u001b[35A\u001b[2K\u001b[35A\u001b[2K\u001b[35A\u001b[2K\u001b[35A\u001b[2K\u001b[35A\u001b[2K\u001b[35A\u001b[2K\u001b[35A\u001b[2K\u001b[35A\u001b[2K\u001b[35A\u001b[2K\u001b[35A\u001b[2K\u001b[35A\u001b[2K\u001b[35A\u001b[2K\u001b[35A\u001b[2K\u001b[35A\u001b[2K\u001b[35A\u001b[2K\u001b[35A\u001b[2K\u001b[35A\u001b[2K\u001b[35A\u001b[2K\u001b[35A\u001b[2K\u001b[35A\u001b[2K\u001b[35A\u001b[2K\u001b[35A\u001b[2K\u001b[35A\u001b[2K\u001b[35A\u001b[2K\u001b[35A\u001b[2K\u001b[35A\u001b[2K\u001b[35A\u001b[2K\u001b[35A\u001b[2K\u001b[35A\u001b[2K\u001b[35A\u001b[2K\u001b[35A\u001b[2K\u001b[35A\u001b[2K\u001b[35A\u001b[2K\u001b[35A\u001b[2K\u001b[35A\u001b[2K\u001b[35A\u001b[2K\u001b[35A\u001b[2K\u001b[35A\u001b[2K\u001b[35A\u001b[2K\u001b[35A\u001b[2K\u001b[35A\u001b[2K\u001b[35A\u001b[2K\u001b[35A\u001b[2K\u001b[35A\u001b[2K\u001b[35A\u001b[2K\u001b[35A\u001b[2K\u001b[35A\u001b[2K\u001b[34A\u001b[2K\u001b[34A\u001b[2K\u001b[33A\u001b[2K\u001b[33A\u001b[2K\u001b[33A\u001b[2K\u001b[33A\u001b[2K\u001b[33A\u001b[2K\u001b[33A\u001b[2K\u001b[33A\u001b[2K\u001b[33A\u001b[2K\u001b[33A\u001b[2K\u001b[33A\u001b[2K\u001b[33A\u001b[2K\u001b[33A\u001b[2K\u001b[33A\u001b[2K\u001b[33A\u001b[2K\u001b[33A\u001b[2K\u001b[33A\u001b[2K\u001b[33A\u001b[2K\u001b[33A\u001b[2K\u001b[33A\u001b[2K\u001b[33A\u001b[2K\u001b[33A\u001b[2K\u001b[33A\u001b[2K\u001b[33A\u001b[2K\u001b[33A\u001b[2K\u001b[33A\u001b[2K\u001b[33A\u001b[2K\u001b[33A\u001b[2K\u001b[33A\u001b[2K\u001b[33A\u001b[2K\u001b[33A\u001b[2K\u001b[33A\u001b[2K\u001b[33A\u001b[2K\u001b[33A\u001b[2K\u001b[33A\u001b[2K\u001b[33A\u001b[2K\u001b[33A\u001b[2K\u001b[33A\u001b[2K\u001b[32A\u001b[2K\u001b[32A\u001b[2K\u001b[31A\u001b[2K\u001b[31A\u001b[2K\u001b[31A\u001b[2K\u001b[31A\u001b[2K\u001b[31A\u001b[2K\u001b[31A\u001b[2K\u001b[31A\u001b[2K\u001b[31A\u001b[2K\u001b[31A\u001b[2K\u001b[31A\u001b[2K\u001b[31A\u001b[2K\u001b[31A\u001b[2K\u001b[31A\u001b[2K\u001b[31A\u001b[2K\u001b[31A\u001b[2K\u001b[31A\u001b[2K\u001b[31A\u001b[2K\u001b[31A\u001b[2K\u001b[31A\u001b[2K\u001b[31A\u001b[2K\u001b[31A\u001b[2K\u001b[31A\u001b[2K\u001b[31A\u001b[2K\u001b[31A\u001b[2K\u001b[31A\u001b[2K\u001b[31A\u001b[2K\u001b[31A\u001b[2K\u001b[31A\u001b[2K\u001b[31A\u001b[2K\u001b[31A\u001b[2K\u001b[31A\u001b[2K\u001b[31A\u001b[2K\u001b[31A\u001b[2K\u001b[31A\u001b[2K\u001b[31A\u001b[2K\u001b[31A\u001b[2K\u001b[31A\u001b[2K\u001b[31A\u001b[2K\u001b[31A\u001b[2K\u001b[31A\u001b[2K\u001b[31A\u001b[2K\u001b[30A\u001b[2K\u001b[30A\u001b[2K\u001b[30A\u001b[2K\u001b[30A\u001b[2K\u001b[30A\u001b[2K\u001b[30A\u001b[2K\u001b[30A\u001b[2K\u001b[30A\u001b[2K\u001b[29A\u001b[2K\u001b[29A\u001b[2K\u001b[29A\u001b[2K\u001b[29A\u001b[2K\u001b[29A\u001b[2K\u001b[29A\u001b[2K\u001b[29A\u001b[2K\u001b[29A\u001b[2K\u001b[29A\u001b[2K\u001b[29A\u001b[2K\u001b[29A\u001b[2K\u001b[29A\u001b[2K\u001b[29A\u001b[2K\u001b[29A\u001b[2K\u001b[29A\u001b[2K\u001b[29A\u001b[2K\u001b[29A\u001b[2K\u001b[29A\u001b[2K\u001b[29A\u001b[2K\u001b[29A\u001b[2K\u001b[29A\u001b[2K\u001b[29A\u001b[2K\u001b[29A\u001b[2K\u001b[29A\u001b[2K\u001b[29A\u001b[2K\u001b[28A\u001b[2K\u001b[28A\u001b[2K\u001b[27A\u001b[2K\u001b[27A\u001b[2K\u001b[27A\u001b[2K\u001b[27A\u001b[2K\u001b[27A\u001b[2K\u001b[27A\u001b[2K\u001b[27A\u001b[2K\u001b[27A\u001b[2K\u001b[27A\u001b[2K\u001b[27A\u001b[2K\u001b[27A\u001b[2K\u001b[27A\u001b[2K\u001b[27A\u001b[2K\u001b[27A\u001b[2K\u001b[27A\u001b[2K\u001b[27A\u001b[2K\u001b[27A\u001b[2K\u001b[27A\u001b[2K\u001b[27A\u001b[2K\u001b[27A\u001b[2K\u001b[27A\u001b[2K\u001b[27A\u001b[2K\u001b[27A\u001b[2K\u001b[27A\u001b[2K\u001b[27A\u001b[2K\u001b[27A\u001b[2K\u001b[27A\u001b[2K\u001b[27A\u001b[2K\u001b[27A\u001b[2K\u001b[27A\u001b[2K\u001b[27A\u001b[2K\u001b[27A\u001b[2K\u001b[27A\u001b[2K\u001b[27A\u001b[2K\u001b[27A\u001b[2K\u001b[27A\u001b[2K\u001b[27A\u001b[2K\u001b[27A\u001b[2K\u001b[27A\u001b[2K\u001b[27A\u001b[2K\u001b[27A\u001b[2K\u001b[27A\u001b[2K\u001b[27A\u001b[2K\u001b[27A\u001b[2K\u001b[27A\u001b[2K\u001b[27A\u001b[2K\u001b[27A\u001b[2K\u001b[27A\u001b[2K\u001b[27A\u001b[2K\u001b[27A\u001b[2K\u001b[27A\u001b[2K\u001b[27A\u001b[2K\u001b[27A\u001b[2K\u001b[27A\u001b[2K\u001b[27A\u001b[2K\u001b[27A\u001b[2K\u001b[27A\u001b[2K\u001b[27A\u001b[2K\u001b[27A\u001b[2K\u001b[27A\u001b[2K\u001b[27A\u001b[2K\u001b[27A\u001b[2K\u001b[27A\u001b[2K\u001b[27A\u001b[2K\u001b[27A\u001b[2K\u001b[27A\u001b[2K\u001b[27A\u001b[2K\u001b[27A\u001b[2K\u001b[27A\u001b[2K\u001b[27A\u001b[2K\u001b[27A\u001b[2K\u001b[27A\u001b[2K\u001b[27A\u001b[2K\u001b[27A\u001b[2K\u001b[27A\u001b[2K\u001b[27A\u001b[2K\u001b[27A\u001b[2K\u001b[27A\u001b[2K\u001b[27A\u001b[2K\u001b[27A\u001b[2K\u001b[27A\u001b[2K\u001b[27A\u001b[2K\u001b[27A\u001b[2K\u001b[27A\u001b[2K\u001b[27A\u001b[2K\u001b[27A\u001b[2K\u001b[27A\u001b[2K\u001b[27A\u001b[2K\u001b[27A\u001b[2K\u001b[27A\u001b[2K\u001b[27A\u001b[2K\u001b[27A\u001b[2K\u001b[27A\u001b[2K\u001b[27A\u001b[2K\u001b[27A\u001b[2K\u001b[27A\u001b[2K\u001b[27A\u001b[2K\u001b[27A\u001b[2K\u001b[27A\u001b[2K\u001b[27A\u001b[2K\u001b[27A\u001b[2K\u001b[27A\u001b[2K\u001b[27A\u001b[2K\u001b[27A\u001b[2K\u001b[27A\u001b[2K\u001b[27A\u001b[2K\u001b[27A\u001b[2K\u001b[27A\u001b[2K\u001b[27A\u001b[2K\u001b[27A\u001b[2K\u001b[27A\u001b[2K\u001b[27A\u001b[2K\u001b[27A\u001b[2K\u001b[27A\u001b[2K\u001b[27A\u001b[2K\u001b[27A\u001b[2K\u001b[27A\u001b[2K\u001b[27A\u001b[2K\u001b[27A\u001b[2K\u001b[27A\u001b[2K\u001b[27A\u001b[2K\u001b[27A\u001b[2K\u001b[27A\u001b[2K\u001b[27A\u001b[2K\u001b[27A\u001b[2K\u001b[27A\u001b[2K\u001b[27A\u001b[2K\u001b[27A\u001b[2K\u001b[27A\u001b[2K\u001b[27A\u001b[2K\u001b[27A\u001b[2K\u001b[27A\u001b[2K\u001b[27A\u001b[2K\u001b[27A\u001b[2K\u001b[27A\u001b[2K\u001b[27A\u001b[2K\u001b[27A\u001b[2K\u001b[27A\u001b[2K\u001b[27A\u001b[2K\u001b[27A\u001b[2K\u001b[27A\u001b[2K\u001b[27A\u001b[2K\u001b[27A\u001b[2K\u001b[27A\u001b[2K\u001b[27A\u001b[2K\u001b[27A\u001b[2K\u001b[27A\u001b[2K\u001b[27A\u001b[2K\u001b[27A\u001b[2K\u001b[27A\u001b[2K\u001b[27A\u001b[2K\u001b[27A\u001b[2K\u001b[27A\u001b[2K\u001b[27A\u001b[2K\u001b[27A\u001b[2KExtracting  968.7MB/2.044GB\u001b[27A\u001b[2K\u001b[27A\u001b[2K\u001b[27A\u001b[2K\u001b[27A\u001b[2K\u001b[27A\u001b[2K\u001b[27A\u001b[2K\u001b[27A\u001b[2K\u001b[27A\u001b[2K\u001b[27A\u001b[2K\u001b[27A\u001b[2K\u001b[27A\u001b[2K\u001b[27A\u001b[2K\u001b[27A\u001b[2K\u001b[27A\u001b[2K\u001b[27A\u001b[2K\u001b[27A\u001b[2K\u001b[27A\u001b[2K\u001b[27A\u001b[2K\u001b[27A\u001b[2K\u001b[27A\u001b[2K\u001b[27A\u001b[2K\u001b[27A\u001b[2K\u001b[27A\u001b[2K\u001b[27A\u001b[2K\u001b[27A\u001b[2K\u001b[27A\u001b[2K\u001b[27A\u001b[2K\u001b[27A\u001b[2K\u001b[27A\u001b[2K\u001b[27A\u001b[2K\u001b[27A\u001b[2K\u001b[27A\u001b[2K\u001b[27A\u001b[2K\u001b[27A\u001b[2K\u001b[27A\u001b[2K\u001b[27A\u001b[2K\u001b[27A\u001b[2K\u001b[27A\u001b[2K\u001b[27A\u001b[2K\u001b[27A\u001b[2K\u001b[27A\u001b[2K\u001b[27A\u001b[2K\u001b[27A\u001b[2K\u001b[27A\u001b[2K\u001b[27A\u001b[2K\u001b[27A\u001b[2K\u001b[27A\u001b[2K\u001b[27A\u001b[2K\u001b[27A\u001b[2K\u001b[27A\u001b[2K\u001b[27A\u001b[2K\u001b[27A\u001b[2K\u001b[27A\u001b[2K\u001b[27A\u001b[2K\u001b[27A\u001b[2K\u001b[27A\u001b[2K\u001b[27A\u001b[2K\u001b[27A\u001b[2K\u001b[27A\u001b[2K\u001b[27A\u001b[2K\u001b[27A\u001b[2K\u001b[27A\u001b[2K\u001b[27A\u001b[2K\u001b[27A\u001b[2K\u001b[27A\u001b[2K\u001b[27A\u001b[2K\u001b[27A\u001b[2K\u001b[27A\u001b[2K\u001b[27A\u001b[2K\u001b[27A\u001b[2K\u001b[27A\u001b[2K\u001b[27A\u001b[2K\u001b[27A\u001b[2K\u001b[27A\u001b[2K\u001b[27A\u001b[2K\u001b[27A\u001b[2K\u001b[27A\u001b[2K\u001b[27A\u001b[2K\u001b[27A\u001b[2K\u001b[27A\u001b[2K\u001b[27A\u001b[2K\u001b[27A\u001b[2K\u001b[27A\u001b[2K\u001b[27A\u001b[2K\u001b[27A\u001b[2K\u001b[27A\u001b[2K\u001b[27A\u001b[2K\u001b[27A\u001b[2K\u001b[27A\u001b[2K\u001b[27A\u001b[2K\u001b[27A\u001b[2K\u001b[27A\u001b[2K\u001b[27A\u001b[2K\u001b[27A\u001b[2K\u001b[27A\u001b[2K\u001b[27A\u001b[2K\u001b[27A\u001b[2K\u001b[27A\u001b[2K\u001b[27A\u001b[2K\u001b[27A\u001b[2K\u001b[27A\u001b[2K\u001b[27A\u001b[2K\u001b[27A\u001b[2K\u001b[27A\u001b[2K\u001b[27A\u001b[2K\u001b[27A\u001b[2K\u001b[27A\u001b[2K\u001b[27A\u001b[2K\u001b[27A\u001b[2K\u001b[27A\u001b[2K\u001b[27A\u001b[2K\u001b[27A\u001b[2K\u001b[27A\u001b[2K\u001b[27A\u001b[2K\u001b[27A\u001b[2K\u001b[27A\u001b[2K\u001b[27A\u001b[2K\u001b[27A\u001b[2K\u001b[27A\u001b[2K\u001b[27A\u001b[2K\u001b[27A\u001b[2K\u001b[27A\u001b[2K\u001b[27A\u001b[2K\u001b[27A\u001b[2K\u001b[27A\u001b[2K\u001b[27A\u001b[2K\u001b[27A\u001b[2K\u001b[27A\u001b[2K\u001b[27A\u001b[2K\u001b[27A\u001b[2K\u001b[27A\u001b[2K\u001b[27A\u001b[2K\u001b[27A\u001b[2K\u001b[27A\u001b[2K\u001b[27A\u001b[2K\u001b[27A\u001b[2K\u001b[27A\u001b[2K\u001b[27A\u001b[2K\u001b[27A\u001b[2K\u001b[27A\u001b[2K\u001b[27A\u001b[2K\u001b[27A\u001b[2K\u001b[27A\u001b[2K\u001b[27A\u001b[2K\u001b[27A\u001b[2K\u001b[27A\u001b[2K\u001b[27A\u001b[2K\u001b[27A\u001b[2K\u001b[27A\u001b[2K\u001b[27A\u001b[2K\u001b[27A\u001b[2K\u001b[27A\u001b[2K\u001b[27A\u001b[2K\u001b[27A\u001b[2K\u001b[27A\u001b[2K\u001b[27A\u001b[2K\u001b[27A\u001b[2K\u001b[27A\u001b[2K\u001b[27A\u001b[2K\u001b[27A\u001b[2K\u001b[27A\u001b[2K\u001b[27A\u001b[2K\u001b[27A\u001b[2K\u001b[27A\u001b[2K\u001b[27A\u001b[2K\u001b[27A\u001b[2K\u001b[27A\u001b[2K\u001b[27A\u001b[2K\u001b[27A\u001b[2K\u001b[27A\u001b[2K\u001b[27A\u001b[2K\u001b[27A\u001b[2K\u001b[27A\u001b[2K\u001b[27A\u001b[2K\u001b[27A\u001b[2K\u001b[27A\u001b[2K\u001b[27A\u001b[2K\u001b[27A\u001b[2K\u001b[27A\u001b[2K\u001b[27A\u001b[2K\u001b[27A\u001b[2K\u001b[27A\u001b[2K\u001b[27A\u001b[2K\u001b[27A\u001b[2K\u001b[27A\u001b[2K\u001b[27A\u001b[2K\u001b[27A\u001b[2K\u001b[27A\u001b[2K\u001b[27A\u001b[2K\u001b[27A\u001b[2K\u001b[27A\u001b[2K\u001b[27A\u001b[2K\u001b[27A\u001b[2K\u001b[27A\u001b[2K\u001b[27A\u001b[2K\u001b[27A\u001b[2K\u001b[27A\u001b[2K\u001b[27A\u001b[2K\u001b[27A\u001b[2K\u001b[27A\u001b[2K\u001b[27A\u001b[2K\u001b[27A\u001b[2K\u001b[27A\u001b[2K\u001b[27A\u001b[2K\u001b[27A\u001b[2K\u001b[27A\u001b[2K\u001b[27A\u001b[2K\u001b[27A\u001b[2K\u001b[27A\u001b[2K\u001b[27A\u001b[2K\u001b[27A\u001b[2K\u001b[27A\u001b[2K\u001b[27A\u001b[2K\u001b[27A\u001b[2K\u001b[27A\u001b[2K\u001b[27A\u001b[2K\u001b[27A\u001b[2K\u001b[27A\u001b[2K\u001b[27A\u001b[2K\u001b[27A\u001b[2K\u001b[27A\u001b[2K\u001b[27A\u001b[2K\u001b[27A\u001b[2K\u001b[27A\u001b[2K\u001b[27A\u001b[2K\u001b[27A\u001b[2K\u001b[27A\u001b[2K\u001b[27A\u001b[2K\u001b[27A\u001b[2K\u001b[27A\u001b[2K\u001b[27A\u001b[2K\u001b[27A\u001b[2K\u001b[27A\u001b[2K\u001b[27A\u001b[2K\u001b[27A\u001b[2K\u001b[27A\u001b[2K\u001b[27A\u001b[2K\u001b[27A\u001b[2K\u001b[27A\u001b[2K\u001b[27A\u001b[2K\u001b[27A\u001b[2K\u001b[27A\u001b[2K\u001b[27A\u001b[2K\u001b[27A\u001b[2K\u001b[27A\u001b[2K\u001b[27A\u001b[2K\u001b[27A\u001b[2K\u001b[27A\u001b[2K\u001b[27A\u001b[2K\u001b[27A\u001b[2K\u001b[27A\u001b[2K\u001b[27A\u001b[2K\u001b[27A\u001b[2K\u001b[27A\u001b[2K\u001b[27A\u001b[2K\u001b[27A\u001b[2K\u001b[27A\u001b[2K\u001b[27A\u001b[2K\u001b[27A\u001b[2K\u001b[27A\u001b[2K\u001b[27A\u001b[2K\u001b[27A\u001b[2K\u001b[27A\u001b[2K\u001b[27A\u001b[2K\u001b[27A\u001b[2K\u001b[27A\u001b[2K\u001b[27A\u001b[2K\u001b[27A\u001b[2K\u001b[27A\u001b[2K\u001b[27A\u001b[2K\u001b[27A\u001b[2K\u001b[27A\u001b[2K\u001b[27A\u001b[2K\u001b[27A\u001b[2K\u001b[27A\u001b[2K\u001b[27A\u001b[2K\u001b[27A\u001b[2K\u001b[27A\u001b[2K\u001b[27A\u001b[2K\u001b[27A\u001b[2K\u001b[27A\u001b[2K\u001b[27A\u001b[2K\u001b[27A\u001b[2K\u001b[27A\u001b[2K\u001b[27A\u001b[2K\u001b[26A\u001b[2K\u001b[26A\u001b[2K\u001b[25A\u001b[2K\u001b[25A\u001b[2K\u001b[25A\u001b[2K\u001b[25A\u001b[2K\u001b[25A\u001b[2K\u001b[25A\u001b[2K\u001b[25A\u001b[2K\u001b[25A\u001b[2K\u001b[25A\u001b[2K\u001b[25A\u001b[2K\u001b[25A\u001b[2K\u001b[25A\u001b[2K\u001b[25A\u001b[2K\u001b[25A\u001b[2K\u001b[25A\u001b[2K\u001b[25A\u001b[2K\u001b[25A\u001b[2K\u001b[25A\u001b[2K\u001b[25A\u001b[2K\u001b[25A\u001b[2K\u001b[25A\u001b[2K\u001b[25A\u001b[2K\u001b[25A\u001b[2K\u001b[25A\u001b[2K\u001b[25A\u001b[2K\u001b[25A\u001b[2K\u001b[25A\u001b[2K\u001b[25A\u001b[2K\u001b[25A\u001b[2K\u001b[25A\u001b[2K\u001b[25A\u001b[2K\u001b[25A\u001b[2K\u001b[25A\u001b[2K\u001b[25A\u001b[2K\u001b[25A\u001b[2K\u001b[25A\u001b[2K\u001b[25A\u001b[2K\u001b[24A\u001b[2K\u001b[24A\u001b[2K\u001b[23A\u001b[2K\u001b[23A\u001b[2K\u001b[22A\u001b[2K\u001b[22A\u001b[2K\u001b[22A\u001b[2K\u001b[22A\u001b[2K\u001b[22A\u001b[2K\u001b[22A\u001b[2K\u001b[22A\u001b[2K\u001b[22A\u001b[2K\u001b[22A\u001b[2K\u001b[22A\u001b[2K\u001b[22A\u001b[2K\u001b[22A\u001b[2K\u001b[22A\u001b[2K\u001b[22A\u001b[2K\u001b[22A\u001b[2K\u001b[22A\u001b[2K\u001b[22A\u001b[2K\u001b[22A\u001b[2K\u001b[22A\u001b[2K\u001b[22A\u001b[2K\u001b[22A\u001b[2K\u001b[22A\u001b[2K\u001b[22A\u001b[2K\u001b[22A\u001b[2K\u001b[22A\u001b[2K\u001b[22A\u001b[2K\u001b[22A\u001b[2K\u001b[22A\u001b[2K\u001b[22A\u001b[2K\u001b[22A\u001b[2K\u001b[22A\u001b[2K\u001b[22A\u001b[2K\u001b[22A\u001b[2K\u001b[22A\u001b[2K\u001b[22A\u001b[2K\u001b[22A\u001b[2K\u001b[22A\u001b[2K\u001b[22A\u001b[2K\u001b[22A\u001b[2K\u001b[22A\u001b[2K\u001b[22A\u001b[2K\u001b[22A\u001b[2K\u001b[22A\u001b[2K\u001b[22A\u001b[2K\u001b[22A\u001b[2K\u001b[22A\u001b[2K\u001b[22A\u001b[2K\u001b[22A\u001b[2K\u001b[22A\u001b[2K\u001b[22A\u001b[2K\u001b[22A\u001b[2K\u001b[22A\u001b[2K\u001b[22A\u001b[2K\u001b[22A\u001b[2K\u001b[22A\u001b[2K\u001b[22A\u001b[2K\u001b[22A\u001b[2K\u001b[22A\u001b[2K\u001b[22A\u001b[2K\u001b[22A\u001b[2K\u001b[22A\u001b[2K\u001b[22A\u001b[2K\u001b[22A\u001b[2K\u001b[22A\u001b[2K\u001b[22A\u001b[2K\u001b[22A\u001b[2K\u001b[22A\u001b[2K\u001b[22A\u001b[2K\u001b[22A\u001b[2K\u001b[22A\u001b[2K\u001b[22A\u001b[2K\u001b[22A\u001b[2K\u001b[22A\u001b[2K\u001b[22A\u001b[2K\u001b[22A\u001b[2K\u001b[22A\u001b[2K\u001b[22A\u001b[2K\u001b[22A\u001b[2K\u001b[22A\u001b[2K\u001b[22A\u001b[2K\u001b[22A\u001b[2K\u001b[22A\u001b[2K\u001b[22A\u001b[2K\u001b[22A\u001b[2K\u001b[22A\u001b[2K\u001b[22A\u001b[2K\u001b[22A\u001b[2K\u001b[22A\u001b[2K\u001b[22A\u001b[2K\u001b[22A\u001b[2K\u001b[22A\u001b[2K\u001b[22A\u001b[2K\u001b[22A\u001b[2K\u001b[22A\u001b[2K\u001b[22A\u001b[2K\u001b[22A\u001b[2K\u001b[22A\u001b[2K\u001b[22A\u001b[2K\u001b[22A\u001b[2K\u001b[22A\u001b[2K\u001b[22A\u001b[2K\u001b[22A\u001b[2K\u001b[22A\u001b[2K\u001b[22A\u001b[2K\u001b[22A\u001b[2K\u001b[22A\u001b[2K\u001b[22A\u001b[2K\u001b[22A\u001b[2K\u001b[22A\u001b[2K\u001b[22A\u001b[2K\u001b[22A\u001b[2K\u001b[22A\u001b[2K\u001b[22A\u001b[2K\u001b[22A\u001b[2K\u001b[22A\u001b[2K\u001b[22A\u001b[2K\u001b[22A\u001b[2K\u001b[22A\u001b[2K\u001b[22A\u001b[2K\u001b[22A\u001b[2K\u001b[22A\u001b[2K\u001b[22A\u001b[2K\u001b[22A\u001b[2K\u001b[22A\u001b[2K\u001b[22A\u001b[2K\u001b[22A\u001b[2K\u001b[22A\u001b[2K\u001b[22A\u001b[2K\u001b[22A\u001b[2K\u001b[22A\u001b[2K\u001b[22A\u001b[2K\u001b[22A\u001b[2K\u001b[22A\u001b[2K\u001b[22A\u001b[2K\u001b[22A\u001b[2K\u001b[22A\u001b[2K\u001b[22A\u001b[2K\u001b[22A\u001b[2K\u001b[22A\u001b[2K\u001b[22A\u001b[2K\u001b[22A\u001b[2K\u001b[22A\u001b[2K\u001b[22A\u001b[2K\u001b[22A\u001b[2K\u001b[22A\u001b[2K\u001b[22A\u001b[2K\u001b[22A\u001b[2K\u001b[22A\u001b[2K\u001b[22A\u001b[2K\u001b[22A\u001b[2K\u001b[22A\u001b[2K\u001b[22A\u001b[2K\u001b[22A\u001b[2K\u001b[22A\u001b[2K\u001b[22A\u001b[2K\u001b[22A\u001b[2K\u001b[22A\u001b[2K\u001b[22A\u001b[2K\u001b[22A\u001b[2K\u001b[22A\u001b[2K\u001b[22A\u001b[2K\u001b[22A\u001b[2K\u001b[22A\u001b[2K\u001b[22A\u001b[2K\u001b[22A\u001b[2K\u001b[22A\u001b[2K\u001b[22A\u001b[2K\u001b[22A\u001b[2K\u001b[22A\u001b[2K\u001b[22A\u001b[2K\u001b[22A\u001b[2K\u001b[21A\u001b[2K\u001b[21A\u001b[2K\u001b[20A\u001b[2K\u001b[20A\u001b[2K\u001b[20A\u001b[2K\u001b[20A\u001b[2K\u001b[20A\u001b[2K\u001b[20A\u001b[2K\u001b[20A\u001b[2K\u001b[20A\u001b[2K\u001b[20A\u001b[2K\u001b[20A\u001b[2K\u001b[20A\u001b[2K\u001b[20A\u001b[2K\u001b[19A\u001b[2K\u001b[19A\u001b[2K\u001b[19A\u001b[2K\u001b[19A\u001b[2K\u001b[19A\u001b[2K\u001b[19A\u001b[2K\u001b[19A\u001b[2K\u001b[19A\u001b[2K\u001b[19A\u001b[2K\u001b[18A\u001b[2K\u001b[18A\u001b[2K\u001b[18A\u001b[2K\u001b[18A\u001b[2K\u001b[18A\u001b[2K\u001b[18A\u001b[2K\u001b[18A\u001b[2K\u001b[18A\u001b[2K\u001b[18A\u001b[2K\u001b[18A\u001b[2K\u001b[18A\u001b[2K\u001b[18A\u001b[2K\u001b[18A\u001b[2K\u001b[18A\u001b[2K\u001b[18A\u001b[2K\u001b[18A\u001b[2K\u001b[18A\u001b[2K\u001b[18A\u001b[2K\u001b[18A\u001b[2K\u001b[18A\u001b[2K\u001b[18A\u001b[2K\u001b[18A\u001b[2K\u001b[18A\u001b[2K\u001b[18A\u001b[2K\u001b[18A\u001b[2K\u001b[18A\u001b[2K\u001b[18A\u001b[2K\u001b[18A\u001b[2K\u001b[18A\u001b[2K\u001b[18A\u001b[2K\u001b[18A\u001b[2K\u001b[18A\u001b[2K\u001b[18A\u001b[2K\u001b[18A\u001b[2K\u001b[18A\u001b[2K\u001b[18A\u001b[2K\u001b[18A\u001b[2K\u001b[18A\u001b[2K\u001b[18A\u001b[2K\u001b[18A\u001b[2K\u001b[18A\u001b[2K\u001b[18A\u001b[2K\u001b[18A\u001b[2K\u001b[18A\u001b[2K\u001b[18A\u001b[2K\u001b[18A\u001b[2K\u001b[18A\u001b[2K\u001b[18A\u001b[2K\u001b[18A\u001b[2K\u001b[18A\u001b[2K\u001b[18A\u001b[2K\u001b[18A\u001b[2K\u001b[18A\u001b[2K\u001b[18A\u001b[2K\u001b[18A\u001b[2K\u001b[18A\u001b[2K\u001b[18A\u001b[2K\u001b[18A\u001b[2K\u001b[18A\u001b[2K\u001b[18A\u001b[2K\u001b[18A\u001b[2K\u001b[18A\u001b[2K\u001b[18A\u001b[2K\u001b[18A\u001b[2K\u001b[18A\u001b[2K\u001b[18A\u001b[2K\u001b[18A\u001b[2K\u001b[18A\u001b[2K\u001b[18A\u001b[2K\u001b[18A\u001b[2K\u001b[18A\u001b[2K\u001b[18A\u001b[2K\u001b[18A\u001b[2K\u001b[18A\u001b[2K\u001b[18A\u001b[2K\u001b[18A\u001b[2K\u001b[18A\u001b[2K\u001b[18A\u001b[2K\u001b[18A\u001b[2K\u001b[18A\u001b[2K\u001b[18A\u001b[2K\u001b[18A\u001b[2K\u001b[18A\u001b[2K\u001b[18A\u001b[2K\u001b[18A\u001b[2K\u001b[18A\u001b[2K\u001b[18A\u001b[2K\u001b[18A\u001b[2K\u001b[18A\u001b[2K\u001b[18A\u001b[2K\u001b[18A\u001b[2K\u001b[17A\u001b[2K\u001b[17A\u001b[2K\u001b[17A\u001b[2K\u001b[17A\u001b[2K\u001b[17A\u001b[2K\u001b[16A\u001b[2K\u001b[16A\u001b[2K\u001b[16A\u001b[2K\u001b[16A\u001b[2K\u001b[15A\u001b[2K\u001b[15A\u001b[2K\u001b[15A\u001b[2K\u001b[15A\u001b[2K\u001b[14A\u001b[2K\u001b[14A\u001b[2K\u001b[13A\u001b[2K\u001b[13A\u001b[2K\u001b[13A\u001b[2K\u001b[13A\u001b[2K\u001b[12A\u001b[2K\u001b[11A\u001b[2K\u001b[11A\u001b[2K\u001b[10A\u001b[2K\u001b[10A\u001b[2K\u001b[9A\u001b[2K\u001b[8A\u001b[2K\u001b[8A\u001b[2K\u001b[7A\u001b[2K\u001b[7A\u001b[2K\u001b[6A\u001b[2K\u001b[6A\u001b[2K\u001b[6A\u001b[2K\u001b[6A\u001b[2K\u001b[5A\u001b[2K\u001b[5A\u001b[2K\u001b[5A\u001b[2K\u001b[4A\u001b[2K\u001b[4A\u001b[2K\u001b[4A\u001b[2K\u001b[3A\u001b[2K\u001b[3A\u001b[2K\u001b[3A\u001b[2K\u001b[3A\u001b[2K\u001b[3A\u001b[2K\u001b[3A\u001b[2K\u001b[3A\u001b[2K\u001b[2A\u001b[2K\u001b[2A\u001b[2K\u001b[1A\u001b[2K\u001b[1A\u001b[2KDigest: sha256:557d3b551e5b9dba53014a09fc6af2d0a97bfd871b47aa0027c8d992c4f4ccec\n",
      "Status: Downloaded newer image for nvcr.io/nvidia/tensorflow:22.09-tf2-py3\n",
      "\n",
      "================\n",
      "== TensorFlow ==\n",
      "================\n",
      "\n",
      "NVIDIA Release 22.09-tf2 (build 44878075)\n",
      "TensorFlow Version 2.9.1\n",
      "\n",
      "Container image Copyright (c) 2022, NVIDIA CORPORATION & AFFILIATES. All rights reserved.\n",
      "Copyright 2017-2022 The TensorFlow Authors.  All rights reserved.\n",
      "\n",
      "Various files include modifications (c) NVIDIA CORPORATION & AFFILIATES.  All rights reserved.\n",
      "\n",
      "This container image and its contents are governed by the NVIDIA Deep Learning Container License.\n",
      "By pulling and using the container, you accept the terms and conditions of this license:\n",
      "https://developer.nvidia.com/ngc/nvidia-deep-learning-container-license\n",
      "\n",
      "NOTE: CUDA Forward Compatibility mode ENABLED.\n",
      "  Using CUDA 11.8 driver version 520.61.03 with kernel driver version 510.47.03.\n",
      "  See https://docs.nvidia.com/deploy/cuda-compatibility/ for details.\n",
      "\n",
      "Installing Transformers...\n",
      "\u001b[33mWARNING: Running pip as the 'root' user can result in broken permissions and conflicting behaviour with the system package manager. It is recommended to use a virtual environment instead: https://pip.pypa.io/warnings/venv\u001b[0m\u001b[33m\n",
      "\u001b[0mDownloading pretrained DistilBERT Classification TF Model from HuggingFace...\n",
      "Downloading: 100%|██████████████████████████████| 629/629 [00:00<00:00, 782kB/s]\n",
      "Downloading: 100%|███████████████████████████| 268M/268M [00:08<00:00, 33.2MB/s]\n",
      "Serializing Model to SavedModel file...\n",
      "WARNING:absl:Found untraced functions such as embeddings_layer_call_fn, embeddings_layer_call_and_return_conditional_losses, transformer_layer_call_fn, transformer_layer_call_and_return_conditional_losses, add_layer_call_fn while saving (showing 5 of 166). These functions will not be directly callable after loading.\n"
     ]
    }
   ],
   "source": [
    "!docker run --gpus=all --ipc=host --ulimit memlock=-1 --ulimit stack=67108864 --rm -it \\\n",
    "            -v `pwd`/workspace:/workspace nvcr.io/nvidia/tensorflow:22.09-tf2-py3 \\\n",
    "            /bin/bash generate_distilbert_tf.sh"
   ]
  },
  {
   "cell_type": "markdown",
   "id": "6d8feff7",
   "metadata": {},
   "source": [
    "#### T5 PyTorch Model\n",
    "\n",
    "In case of T5-small HuggingFace PyTorch Model, since we are serving it using Triton's [python backend](https://github.com/triton-inference-server/python_backend#usage) we have python script [model.py](./workspace/model.py) which implements all the logic to initialize the T5 model and execute inference for the summarization task."
   ]
  },
  {
   "cell_type": "markdown",
   "id": "669675da",
   "metadata": {},
   "source": [
    "### 2. Build Model Respository\n",
    "\n",
    "Using Triton on SageMaker requires us to first set up a [model repository](https://github.com/triton-inference-server/server/blob/main/docs/user_guide/model_repository.md) folder containing the models we want to serve. For each model we need to create a model directory consisting of the model artifact and define config.pbtxt file to specify [model configuration](https://github.com/triton-inference-server/server/blob/main/docs/model_configuration.md) which Triton uses to load and serve the model. \n",
    "\n"
   ]
  },
  {
   "cell_type": "markdown",
   "id": "ab93b2de",
   "metadata": {},
   "source": [
    "#### DistilBERT TensorFlow Model\n",
    "\n",
    "Model repository structure for DistilBERT TensorFlow Model.\n",
    "\n",
    "```\n",
    "distilbert_tf\n",
    "├── 1\n",
    "│   └── model.savedmodel\n",
    "└── config.pbtxt\n",
    "```\n",
    "\n",
    "Model configuration must specify the platform and backend properties, max_batch_size property and the input and output tensors of the model. Additionally, you can specify instance_group and dynamic_batching properties for optimal inference performance in terms of latency and concurrency."
   ]
  },
  {
   "cell_type": "markdown",
   "id": "0799ee5f-98d8-4308-b320-bb26a1ed4e80",
   "metadata": {},
   "source": [
    "Below we set up the DistilBERT TensorFlow Model in the model repository:"
   ]
  },
  {
   "cell_type": "code",
   "execution_count": 67,
   "id": "72023628-3caf-4496-a013-26195697e385",
   "metadata": {},
   "outputs": [],
   "source": [
    "!mkdir -p model_repository/distilbert_tf/1\n",
    "!cp -r workspace/hf_distilbert/saved_model/1 workspace/model.savedmodel\n",
    "!cp -r workspace/model.savedmodel model_repository/distilbert_tf/1/"
   ]
  },
  {
   "cell_type": "markdown",
   "id": "233b4448-8140-43b2-a80e-3d419ab29f73",
   "metadata": {},
   "source": [
    "Then we define its config file:"
   ]
  },
  {
   "cell_type": "code",
   "execution_count": 68,
   "id": "0f10055c",
   "metadata": {},
   "outputs": [
    {
     "name": "stdout",
     "output_type": "stream",
     "text": [
      "Overwriting model_repository/distilbert_tf/config.pbtxt\n"
     ]
    }
   ],
   "source": [
    "%%writefile model_repository/distilbert_tf/config.pbtxt\n",
    "name: \"distilbert_tf\"\n",
    "platform: \"tensorflow_savedmodel\"\n",
    "max_batch_size: 8\n",
    "input: [\n",
    "    {\n",
    "        name: \"input_ids\"\n",
    "        data_type: TYPE_INT32\n",
    "        dims: [ -1 ]\n",
    "    },\n",
    "    {\n",
    "        name: \"attention_mask\"\n",
    "        data_type: TYPE_INT32\n",
    "        dims: [ -1 ]\n",
    "    }\n",
    "]\n",
    "output: [\n",
    "    {\n",
    "        name: \"logits\"\n",
    "        data_type: TYPE_FP32\n",
    "        dims: [ 2 ]\n",
    "    }\n",
    "]\n",
    "instance_group {\n",
    "  count: 1\n",
    "  kind: KIND_GPU\n",
    "}\n",
    "dynamic_batching {\n",
    "  preferred_batch_size: 4\n",
    "}"
   ]
  },
  {
   "cell_type": "markdown",
   "id": "101cbf9a",
   "metadata": {},
   "source": [
    "#### T5 Python Backend Model\n",
    "\n",
    "Model repository structure for T5 Model.\n",
    "\n",
    "```\n",
    "t5\n",
    "├── 1\n",
    "│   └── model.py\n",
    "└── config.pbtxt\n",
    "```\n"
   ]
  },
  {
   "cell_type": "markdown",
   "id": "469cb8fb-0e93-4b7d-bcb0-e0ac67f6447e",
   "metadata": {},
   "source": [
    "Next we set up the T5 PyTorch Python Backend Model in the model repository:"
   ]
  },
  {
   "cell_type": "code",
   "execution_count": 26,
   "id": "847b575e-5c69-42b2-9627-8159e94aa8df",
   "metadata": {},
   "outputs": [],
   "source": [
    "!mkdir -p model_repository/t5_pytorch/1\n",
    "!cp workspace/model.py model_repository/t5_pytorch/1/"
   ]
  },
  {
   "cell_type": "markdown",
   "id": "b9600f44-fc6f-4826-b846-e6515512ecd2",
   "metadata": {},
   "source": [
    "##### Create Conda Environment for Dependencies\n",
    "\n",
    "For serving the HuggingFace T5 PyTorch Model using Triton's Python backend we have PyTorch and HuggingFace transformers as dependencies.\n",
    "\n",
    "We follow the instructions from the [Triton documentation for packaging dependencies](https://github.com/triton-inference-server/python_backend#2-packaging-the-conda-environment) to be used in the python backend as conda env tar file. Running the bash script [create_hf_env.sh]('./workspace/create_hf_env.sh') creates the conda environment containing PyTorch and HuggingFace transformers, packages it as tar file and then we move it into the t5-pytorch model directory. This can take a few minutes."
   ]
  },
  {
   "cell_type": "code",
   "execution_count": 31,
   "id": "bb553e27-1758-4bff-a10d-6b66b5c4c78f",
   "metadata": {
    "scrolled": true,
    "tags": []
   },
   "outputs": [
    {
     "name": "stdout",
     "output_type": "stream",
     "text": [
      "Collecting package metadata (current_repodata.json): done\n",
      "Solving environment: done\n",
      "\n",
      "\n",
      "==> WARNING: A newer version of conda exists. <==\n",
      "  current version: 4.11.0\n",
      "  latest version: 22.9.0\n",
      "\n",
      "Please update conda by running\n",
      "\n",
      "    $ conda update -n base conda\n",
      "\n",
      "\n",
      "\n",
      "## Package Plan ##\n",
      "\n",
      "  environment location: /home/ec2-user/anaconda3/envs/python3/envs/hf_env\n",
      "\n",
      "  added / updated specs:\n",
      "    - python=3.8\n",
      "\n",
      "\n",
      "The following NEW packages will be INSTALLED:\n",
      "\n",
      "  _libgcc_mutex      conda-forge/linux-64::_libgcc_mutex-0.1-conda_forge\n",
      "  _openmp_mutex      conda-forge/linux-64::_openmp_mutex-4.5-2_gnu\n",
      "  bzip2              conda-forge/linux-64::bzip2-1.0.8-h7f98852_4\n",
      "  ca-certificates    conda-forge/linux-64::ca-certificates-2022.9.24-ha878542_0\n",
      "  ld_impl_linux-64   conda-forge/linux-64::ld_impl_linux-64-2.39-hc81fddc_0\n",
      "  libffi             conda-forge/linux-64::libffi-3.4.2-h7f98852_5\n",
      "  libgcc-ng          conda-forge/linux-64::libgcc-ng-12.2.0-h65d4601_19\n",
      "  libgomp            conda-forge/linux-64::libgomp-12.2.0-h65d4601_19\n",
      "  libnsl             conda-forge/linux-64::libnsl-2.0.0-h7f98852_0\n",
      "  libsqlite          conda-forge/linux-64::libsqlite-3.39.4-h753d276_0\n",
      "  libuuid            conda-forge/linux-64::libuuid-2.32.1-h7f98852_1000\n",
      "  libzlib            conda-forge/linux-64::libzlib-1.2.13-h166bdaf_4\n",
      "  ncurses            conda-forge/linux-64::ncurses-6.3-h27087fc_1\n",
      "  openssl            conda-forge/linux-64::openssl-3.0.5-h166bdaf_2\n",
      "  pip                conda-forge/noarch::pip-22.3-pyhd8ed1ab_0\n",
      "  python             conda-forge/linux-64::python-3.8.13-ha86cf86_0_cpython\n",
      "  readline           conda-forge/linux-64::readline-8.1.2-h0f457ee_0\n",
      "  setuptools         conda-forge/noarch::setuptools-65.5.0-pyhd8ed1ab_0\n",
      "  sqlite             conda-forge/linux-64::sqlite-3.39.4-h4ff8645_0\n",
      "  tk                 conda-forge/linux-64::tk-8.6.12-h27826a3_0\n",
      "  wheel              conda-forge/noarch::wheel-0.37.1-pyhd8ed1ab_0\n",
      "  xz                 conda-forge/linux-64::xz-5.2.6-h166bdaf_0\n",
      "\n",
      "\n",
      "Preparing transaction: done\n",
      "Verifying transaction: done\n",
      "Executing transaction: done\n",
      "#\n",
      "# To activate this environment, use\n",
      "#\n",
      "#     $ conda activate hf_env\n",
      "#\n",
      "# To deactivate an active environment, use\n",
      "#\n",
      "#     $ conda deactivate\n",
      "\n",
      "Looking in indexes: https://pypi.org/simple, https://pip.repos.neuron.amazonaws.com, https://pypi.ngc.nvidia.com, https://download.pytorch.org/whl/cu116\n",
      "Collecting torch\n",
      "  Downloading https://download.pytorch.org/whl/cu116/torch-1.13.0%2Bcu116-cp38-cp38-linux_x86_64.whl (1983.0 MB)\n",
      "\u001b[2K     \u001b[90m━━━━━━━━━━━━━━━━━━━━━━━━━━━━━━━━━━━━━━━━\u001b[0m \u001b[32m2.0/2.0 GB\u001b[0m \u001b[31m240.1 MB/s\u001b[0m eta \u001b[36m0:00:00\u001b[0m00:01\u001b[0m00:01\u001b[0m\n",
      "\u001b[?25hCollecting typing-extensions\n",
      "  Downloading typing_extensions-4.4.0-py3-none-any.whl (26 kB)\n",
      "Installing collected packages: typing-extensions, torch\n",
      "Successfully installed torch-1.13.0+cu116 typing-extensions-4.4.0\n",
      "Looking in indexes: https://pypi.org/simple, https://pip.repos.neuron.amazonaws.com, https://pypi.ngc.nvidia.com\n",
      "Collecting transformers[sentencepiece]\n",
      "  Downloading transformers-4.23.1-py3-none-any.whl (5.3 MB)\n",
      "\u001b[2K     \u001b[90m━━━━━━━━━━━━━━━━━━━━━━━━━━━━━━━━━━━━━━━━\u001b[0m \u001b[32m5.3/5.3 MB\u001b[0m \u001b[31m74.7 MB/s\u001b[0m eta \u001b[36m0:00:00\u001b[0ma \u001b[36m0:00:01\u001b[0m\n",
      "\u001b[?25hCollecting pyyaml>=5.1\n",
      "  Downloading PyYAML-6.0-cp38-cp38-manylinux_2_5_x86_64.manylinux1_x86_64.manylinux_2_12_x86_64.manylinux2010_x86_64.whl (701 kB)\n",
      "\u001b[2K     \u001b[90m━━━━━━━━━━━━━━━━━━━━━━━━━━━━━━━━━━━━━\u001b[0m \u001b[32m701.2/701.2 kB\u001b[0m \u001b[31m364.8 MB/s\u001b[0m eta \u001b[36m0:00:00\u001b[0m\n",
      "\u001b[?25hCollecting requests\n",
      "  Downloading requests-2.28.1-py3-none-any.whl (62 kB)\n",
      "\u001b[2K     \u001b[90m━━━━━━━━━━━━━━━━━━━━━━━━━━━━━━━━━━━━━━━\u001b[0m \u001b[32m62.8/62.8 kB\u001b[0m \u001b[31m288.9 MB/s\u001b[0m eta \u001b[36m0:00:00\u001b[0m\n",
      "\u001b[?25hCollecting tqdm>=4.27\n",
      "  Downloading tqdm-4.64.1-py2.py3-none-any.whl (78 kB)\n",
      "\u001b[2K     \u001b[90m━━━━━━━━━━━━━━━━━━━━━━━━━━━━━━━━━━━━━━━\u001b[0m \u001b[32m78.5/78.5 kB\u001b[0m \u001b[31m314.3 MB/s\u001b[0m eta \u001b[36m0:00:00\u001b[0m\n",
      "\u001b[?25hCollecting packaging>=20.0\n",
      "  Downloading packaging-21.3-py3-none-any.whl (40 kB)\n",
      "\u001b[2K     \u001b[90m━━━━━━━━━━━━━━━━━━━━━━━━━━━━━━━━━━━━━━━\u001b[0m \u001b[32m40.8/40.8 kB\u001b[0m \u001b[31m261.0 MB/s\u001b[0m eta \u001b[36m0:00:00\u001b[0m\n",
      "\u001b[?25hCollecting regex!=2019.12.17\n",
      "  Downloading regex-2022.9.13-cp38-cp38-manylinux_2_17_x86_64.manylinux2014_x86_64.whl (772 kB)\n",
      "\u001b[2K     \u001b[90m━━━━━━━━━━━━━━━━━━━━━━━━━━━━━━━━━━━━━\u001b[0m \u001b[32m772.3/772.3 kB\u001b[0m \u001b[31m372.6 MB/s\u001b[0m eta \u001b[36m0:00:00\u001b[0m\n",
      "\u001b[?25hCollecting numpy>=1.17\n",
      "  Downloading numpy-1.23.4-cp38-cp38-manylinux_2_17_x86_64.manylinux2014_x86_64.whl (17.1 MB)\n",
      "\u001b[2K     \u001b[90m━━━━━━━━━━━━━━━━━━━━━━━━━━━━━━━━━━━━━━━\u001b[0m \u001b[32m17.1/17.1 MB\u001b[0m \u001b[31m208.8 MB/s\u001b[0m eta \u001b[36m0:00:00\u001b[0ma \u001b[36m0:00:01\u001b[0m\n",
      "\u001b[?25hCollecting tokenizers!=0.11.3,<0.14,>=0.11.1\n",
      "  Downloading tokenizers-0.13.1-cp38-cp38-manylinux_2_17_x86_64.manylinux2014_x86_64.whl (7.6 MB)\n",
      "\u001b[2K     \u001b[90m━━━━━━━━━━━━━━━━━━━━━━━━━━━━━━━━━━━━━━━━\u001b[0m \u001b[32m7.6/7.6 MB\u001b[0m \u001b[31m239.1 MB/s\u001b[0m eta \u001b[36m0:00:00\u001b[0m\n",
      "\u001b[?25hCollecting filelock\n",
      "  Downloading filelock-3.8.0-py3-none-any.whl (10 kB)\n",
      "Collecting huggingface-hub<1.0,>=0.10.0\n",
      "  Downloading huggingface_hub-0.10.1-py3-none-any.whl (163 kB)\n",
      "\u001b[2K     \u001b[90m━━━━━━━━━━━━━━━━━━━━━━━━━━━━━━━━━━━━━\u001b[0m \u001b[32m163.5/163.5 kB\u001b[0m \u001b[31m318.9 MB/s\u001b[0m eta \u001b[36m0:00:00\u001b[0m\n",
      "\u001b[?25hCollecting sentencepiece!=0.1.92,>=0.1.91\n",
      "  Downloading sentencepiece-0.1.97-cp38-cp38-manylinux_2_17_x86_64.manylinux2014_x86_64.whl (1.3 MB)\n",
      "\u001b[2K     \u001b[90m━━━━━━━━━━━━━━━━━━━━━━━━━━━━━━━━━━━━━━━━\u001b[0m \u001b[32m1.3/1.3 MB\u001b[0m \u001b[31m357.0 MB/s\u001b[0m eta \u001b[36m0:00:00\u001b[0m\n",
      "\u001b[?25hCollecting protobuf<=3.20.2\n",
      "  Downloading protobuf-3.20.2-cp38-cp38-manylinux_2_5_x86_64.manylinux1_x86_64.whl (1.0 MB)\n",
      "\u001b[2K     \u001b[90m━━━━━━━━━━━━━━━━━━━━━━━━━━━━━━━━━━━━━━━━\u001b[0m \u001b[32m1.0/1.0 MB\u001b[0m \u001b[31m359.4 MB/s\u001b[0m eta \u001b[36m0:00:00\u001b[0m\n",
      "\u001b[?25hRequirement already satisfied: typing-extensions>=3.7.4.3 in /home/ec2-user/anaconda3/envs/python3/envs/hf_env/lib/python3.8/site-packages (from huggingface-hub<1.0,>=0.10.0->transformers[sentencepiece]) (4.4.0)\n",
      "Collecting pyparsing!=3.0.5,>=2.0.2\n",
      "  Downloading pyparsing-3.0.9-py3-none-any.whl (98 kB)\n",
      "\u001b[2K     \u001b[90m━━━━━━━━━━━━━━━━━━━━━━━━━━━━━━━━━━━━━━━\u001b[0m \u001b[32m98.3/98.3 kB\u001b[0m \u001b[31m325.0 MB/s\u001b[0m eta \u001b[36m0:00:00\u001b[0m\n",
      "\u001b[?25hCollecting certifi>=2017.4.17\n",
      "  Downloading certifi-2022.9.24-py3-none-any.whl (161 kB)\n",
      "\u001b[2K     \u001b[90m━━━━━━━━━━━━━━━━━━━━━━━━━━━━━━━━━━━━━\u001b[0m \u001b[32m161.1/161.1 kB\u001b[0m \u001b[31m330.9 MB/s\u001b[0m eta \u001b[36m0:00:00\u001b[0m\n",
      "\u001b[?25hCollecting idna<4,>=2.5\n",
      "  Downloading idna-3.4-py3-none-any.whl (61 kB)\n",
      "\u001b[2K     \u001b[90m━━━━━━━━━━━━━━━━━━━━━━━━━━━━━━━━━━━━━━━\u001b[0m \u001b[32m61.5/61.5 kB\u001b[0m \u001b[31m295.6 MB/s\u001b[0m eta \u001b[36m0:00:00\u001b[0m\n",
      "\u001b[?25hCollecting charset-normalizer<3,>=2\n",
      "  Downloading charset_normalizer-2.1.1-py3-none-any.whl (39 kB)\n",
      "Collecting urllib3<1.27,>=1.21.1\n",
      "  Downloading urllib3-1.26.12-py2.py3-none-any.whl (140 kB)\n",
      "\u001b[2K     \u001b[90m━━━━━━━━━━━━━━━━━━━━━━━━━━━━━━━━━━━━━\u001b[0m \u001b[32m140.4/140.4 kB\u001b[0m \u001b[31m314.4 MB/s\u001b[0m eta \u001b[36m0:00:00\u001b[0m\n",
      "\u001b[?25hInstalling collected packages: tokenizers, sentencepiece, urllib3, tqdm, regex, pyyaml, pyparsing, protobuf, numpy, idna, filelock, charset-normalizer, certifi, requests, packaging, huggingface-hub, transformers\n",
      "Successfully installed certifi-2022.9.24 charset-normalizer-2.1.1 filelock-3.8.0 huggingface-hub-0.10.1 idna-3.4 numpy-1.23.4 packaging-21.3 protobuf-3.20.2 pyparsing-3.0.9 pyyaml-6.0 regex-2022.9.13 requests-2.28.1 sentencepiece-0.1.97 tokenizers-0.13.1 tqdm-4.64.1 transformers-4.23.1 urllib3-1.26.12\n",
      "Looking in indexes: https://pypi.org/simple, https://pip.repos.neuron.amazonaws.com, https://pypi.ngc.nvidia.com\n",
      "Collecting conda-pack\n",
      "  Downloading conda-pack-0.6.0.tar.gz (43 kB)\n",
      "\u001b[2K     \u001b[90m━━━━━━━━━━━━━━━━━━━━━━━━━━━━━━━━━━━━━━━━\u001b[0m \u001b[32m43.2/43.2 kB\u001b[0m \u001b[31m4.3 MB/s\u001b[0m eta \u001b[36m0:00:00\u001b[0m\n",
      "\u001b[?25h  Preparing metadata (setup.py) ... \u001b[?25ldone\n",
      "\u001b[?25hRequirement already satisfied: setuptools in /home/ec2-user/anaconda3/envs/python3/envs/hf_env/lib/python3.8/site-packages (from conda-pack) (65.5.0)\n",
      "Building wheels for collected packages: conda-pack\n",
      "  Building wheel for conda-pack (setup.py) ... \u001b[?25ldone\n",
      "\u001b[?25h  Created wheel for conda-pack: filename=conda_pack-0.6.0-py2.py3-none-any.whl size=30883 sha256=1e8b45e458fca9c30e42109a95689e72630ad31a3a9c29bb752445da7aca65f4\n",
      "  Stored in directory: /tmp/pip-ephem-wheel-cache-xry7z2hn/wheels/ad/ce/cd/58348f78b175becab147bbc179095c7f9c7624f7aad28cbd6a\n",
      "Successfully built conda-pack\n",
      "Installing collected packages: conda-pack\n",
      "Successfully installed conda-pack-0.6.0\n",
      "Collecting packages...\n",
      "Packing environment at '/home/ec2-user/anaconda3/envs/python3/envs/hf_env' to 'hf_env.tar.gz'\n",
      "[########################################] | 100% Completed |  2min 53.8s\n"
     ]
    }
   ],
   "source": [
    "!bash workspace/create_hf_env.sh\n",
    "!mv hf_env.tar.gz model_repository/t5_pytorch/"
   ]
  },
  {
   "cell_type": "markdown",
   "id": "7c4266ed-2855-4c98-9a72-00db73e3a389",
   "metadata": {},
   "source": [
    "After creating the tar file from the conda environment and placing it in model folder, you need to tell Python backend to use that environment for your model. We do this by including the lines below in the model `config.pbtxt` file:\n",
    "\n",
    "```\n",
    "parameters: {\n",
    "  key: \"EXECUTION_ENV_PATH\",\n",
    "  value: {string_value: \"$$TRITON_MODEL_DIRECTORY/hf_env.tar.gz\"}\n",
    "}\n",
    "```\n",
    "Here, `$$TRITON_MODEL_DIRECTORY` helps provide environment path relative to the model folder in model repository and is resolved to `$pwd/model_repository/t5_pytorch`. Finally `hf_env.tar.gz` is the name we gave to our conda env file."
   ]
  },
  {
   "cell_type": "markdown",
   "id": "03b9e0ca-85b6-4ec8-8bc5-0f8782cc7f81",
   "metadata": {},
   "source": [
    "Now we are ready to define the config file for t5 pytorch model being served through Triton's Python Backend:"
   ]
  },
  {
   "cell_type": "code",
   "execution_count": 32,
   "id": "b7539da4-801a-47f7-84c1-d966a4254e8d",
   "metadata": {},
   "outputs": [
    {
     "name": "stdout",
     "output_type": "stream",
     "text": [
      "Writing model_repository/t5_pytorch/config.pbtxt\n"
     ]
    }
   ],
   "source": [
    "%%writefile model_repository/t5_pytorch/config.pbtxt\n",
    "name: \"t5\"\n",
    "backend: \"python\"\n",
    "max_batch_size: 8\n",
    "input: [\n",
    "    {\n",
    "        name: \"input_ids\"\n",
    "        data_type: TYPE_INT32\n",
    "        dims: [ -1 ]\n",
    "    },\n",
    "    {\n",
    "        name: \"attention_mask\"\n",
    "        data_type: TYPE_INT32\n",
    "        dims: [ -1 ]\n",
    "    }\n",
    "]\n",
    "output [\n",
    "  {\n",
    "    name: \"output\"\n",
    "    data_type: TYPE_INT32\n",
    "    dims: [ -1 ]\n",
    "  }\n",
    "]\n",
    "instance_group {\n",
    "  count: 1\n",
    "  kind: KIND_GPU\n",
    "}\n",
    "dynamic_batching {\n",
    "  preferred_batch_size: 4\n",
    "}\n",
    "parameters: {\n",
    "  key: \"EXECUTION_ENV_PATH\",\n",
    "  value: {string_value: \"$$TRITON_MODEL_DIRECTORY/hf_env.tar.gz\"}\n",
    "}"
   ]
  },
  {
   "cell_type": "markdown",
   "id": "12ff2aca",
   "metadata": {},
   "source": [
    "### 3. Package models and upload to S3\n",
    "\n",
    "Next, we will package our models as `*.tar.gz` files for uploading to S3. "
   ]
  },
  {
   "cell_type": "code",
   "execution_count": 69,
   "id": "cd130786",
   "metadata": {},
   "outputs": [],
   "source": [
    "!tar -C model_repository/ -czf distilbert_tf.tar.gz distilbert_tf\n",
    "model_uri_distilbert_tf = sagemaker_session.upload_data(path=\"distilbert_tf.tar.gz\", key_prefix=prefix)"
   ]
  },
  {
   "cell_type": "code",
   "execution_count": 70,
   "id": "4dee5834-5363-49a3-9457-de37ac579733",
   "metadata": {},
   "outputs": [],
   "source": [
    "!tar -C model_repository/ -czf t5_pytorch.tar.gz t5_pytorch\n",
    "model_uri_t5_pytorch = sagemaker_session.upload_data(path=\"t5_pytorch.tar.gz\", key_prefix=prefix)"
   ]
  },
  {
   "cell_type": "markdown",
   "id": "c1bec3b9",
   "metadata": {},
   "source": [
    "### 4. Create SageMaker Endpoint\n",
    "\n",
    "Now that we have uploaded the model artifacts to S3, we can create a SageMaker multi-model endpoint."
   ]
  },
  {
   "cell_type": "markdown",
   "id": "fa08469b-e9cc-44db-8c8d-0fa81f69e811",
   "metadata": {},
   "source": [
    "#### Define the serving container\n",
    "In the container definition, define the `ModelDataUrl` to specify the S3 directory that contains all the models that SageMaker multi-model endpoint will use to load and serve predictions. Set `Mode` to `MultiModel` to indicate SageMaker would create the endpoint with MME container specifications. We set the container with an image that supports deploying multi-model endpoints with GPU"
   ]
  },
  {
   "cell_type": "code",
   "execution_count": 71,
   "id": "c29f9c8b",
   "metadata": {},
   "outputs": [],
   "source": [
    "model_data_url = f\"s3://{bucket}/{prefix}/\"\n",
    "\n",
    "container = {\n",
    "    \"Image\": mme_triton_image_uri,\n",
    "    \"ModelDataUrl\": model_data_url,\n",
    "    \"Mode\": \"MultiModel\",\n",
    "}"
   ]
  },
  {
   "cell_type": "markdown",
   "id": "fcd351ed-eb2b-40d5-9bcc-f5192f33deff",
   "metadata": {},
   "source": [
    "#### Create a multi-model object"
   ]
  },
  {
   "cell_type": "markdown",
   "id": "0df84648",
   "metadata": {},
   "source": [
    "Once the image, data location are set we create the model using `create_model` by specifying the `ModelName` and the Container definition"
   ]
  },
  {
   "cell_type": "code",
   "execution_count": 72,
   "id": "828833d4",
   "metadata": {},
   "outputs": [
    {
     "name": "stdout",
     "output_type": "stream",
     "text": [
      "Model Arn: arn:aws:sagemaker:us-west-2:354625738399:model/nlp-mme-gpu-mdl-2022-10-26-23-52-58\n"
     ]
    }
   ],
   "source": [
    "ts = time.strftime(\"%Y-%m-%d-%H-%M-%S\", time.gmtime())\n",
    "sm_model_name = f\"{prefix}-mdl-{ts}\"\n",
    "\n",
    "create_model_response = sm_client.create_model(\n",
    "    ModelName=sm_model_name, ExecutionRoleArn=role, PrimaryContainer=container\n",
    ")\n",
    "\n",
    "print(\"Model Arn: \" + create_model_response[\"ModelArn\"])"
   ]
  },
  {
   "cell_type": "markdown",
   "id": "71f16874-b6a5-41ef-b6de-6dfd7077a8c0",
   "metadata": {},
   "source": [
    "#### Define configuration for the multi-model endpoint"
   ]
  },
  {
   "cell_type": "markdown",
   "id": "a2e5141f",
   "metadata": {},
   "source": [
    "Using the model above, we create an [endpoint configuration](https://docs.aws.amazon.com/sagemaker/latest/APIReference/API_CreateEndpointConfig.html) where we can specify the type and number of instances we want in the endpoint. Here we are deploying to `g5.xlarge` NVIDIA GPU instance."
   ]
  },
  {
   "cell_type": "code",
   "execution_count": 73,
   "id": "f8b1935a",
   "metadata": {},
   "outputs": [
    {
     "name": "stdout",
     "output_type": "stream",
     "text": [
      "Endpoint Config Arn: arn:aws:sagemaker:us-west-2:354625738399:endpoint-config/nlp-mme-gpu-epc-2022-10-26-23-52-58\n"
     ]
    }
   ],
   "source": [
    "endpoint_config_name = f\"{prefix}-epc-{ts}\"\n",
    "\n",
    "create_endpoint_config_response = sm_client.create_endpoint_config(\n",
    "    EndpointConfigName=endpoint_config_name,\n",
    "    ProductionVariants=[\n",
    "        {\n",
    "            \"InstanceType\": \"ml.g5.xlarge\",\n",
    "            \"InitialVariantWeight\": 1,\n",
    "            \"InitialInstanceCount\": 1,\n",
    "            \"ModelName\": sm_model_name,\n",
    "            \"VariantName\": \"AllTraffic\",\n",
    "        }\n",
    "    ],\n",
    ")\n",
    "\n",
    "print(\"Endpoint Config Arn: \" + create_endpoint_config_response[\"EndpointConfigArn\"])"
   ]
  },
  {
   "cell_type": "markdown",
   "id": "317dea69-3f36-4951-a041-b54f913a4964",
   "metadata": {},
   "source": [
    "#### Create Multi-Model Endpoint"
   ]
  },
  {
   "cell_type": "markdown",
   "id": "f0dbe37b",
   "metadata": {},
   "source": [
    "Using the above endpoint configuration we create a new sagemaker endpoint and wait for the deployment to finish. The status will change to **InService** once the deployment is successful."
   ]
  },
  {
   "cell_type": "code",
   "execution_count": 74,
   "id": "1dc75034",
   "metadata": {},
   "outputs": [
    {
     "name": "stdout",
     "output_type": "stream",
     "text": [
      "Endpoint Arn: arn:aws:sagemaker:us-west-2:354625738399:endpoint/nlp-mme-gpu-ep-2022-10-26-23-52-58\n"
     ]
    }
   ],
   "source": [
    "endpoint_name = f\"{prefix}-ep-{ts}\"\n",
    "\n",
    "create_endpoint_response = sm_client.create_endpoint(\n",
    "    EndpointName=endpoint_name, EndpointConfigName=endpoint_config_name\n",
    ")\n",
    "\n",
    "print(\"Endpoint Arn: \" + create_endpoint_response[\"EndpointArn\"])"
   ]
  },
  {
   "cell_type": "code",
   "execution_count": 75,
   "id": "daa1374f",
   "metadata": {},
   "outputs": [
    {
     "name": "stdout",
     "output_type": "stream",
     "text": [
      "Status: Creating\n",
      "Status: Creating\n",
      "Status: Creating\n",
      "Status: Creating\n",
      "Status: Creating\n",
      "Status: InService\n",
      "Arn: arn:aws:sagemaker:us-west-2:354625738399:endpoint/nlp-mme-gpu-ep-2022-10-26-23-52-58\n",
      "Status: InService\n"
     ]
    }
   ],
   "source": [
    "resp = sm_client.describe_endpoint(EndpointName=endpoint_name)\n",
    "status = resp[\"EndpointStatus\"]\n",
    "print(\"Status: \" + status)\n",
    "\n",
    "while status == \"Creating\":\n",
    "    time.sleep(60)\n",
    "    resp = sm_client.describe_endpoint(EndpointName=endpoint_name)\n",
    "    status = resp[\"EndpointStatus\"]\n",
    "    print(\"Status: \" + status)\n",
    "\n",
    "print(\"Arn: \" + resp[\"EndpointArn\"])\n",
    "print(\"Status: \" + status)"
   ]
  },
  {
   "cell_type": "markdown",
   "id": "1e28b763",
   "metadata": {},
   "source": [
    "### 5. Run Inference"
   ]
  },
  {
   "cell_type": "markdown",
   "id": "9b0a75b2-c890-4da9-ad2f-3732a6225528",
   "metadata": {},
   "source": [
    "Once we have the endpoint running we can use some sample raw data to do an inference using JSON as the payload format. For the inference request format, Triton uses the KFServing community standard [inference protocols](https://github.com/triton-inference-server/server/blob/main/docs/protocol/README.md)."
   ]
  },
  {
   "cell_type": "markdown",
   "id": "401532cf-edc3-489c-a790-a52b4005b8a6",
   "metadata": {},
   "source": [
    "#### Add utility methods for preparing JSON request payload\n",
    "\n"
   ]
  },
  {
   "cell_type": "markdown",
   "id": "4f5f1b0b-89eb-4508-a68c-feece89961c5",
   "metadata": {},
   "source": [
    "We'll use the following utility methods to convert our inference request for DistilBERT and T5 models into a json payload."
   ]
  },
  {
   "cell_type": "code",
   "execution_count": 76,
   "id": "9c768924",
   "metadata": {},
   "outputs": [],
   "source": [
    "from transformers import AutoTokenizer\n",
    "\n",
    "def get_tokenizer(model_name):\n",
    "    tokenizer = AutoTokenizer.from_pretrained(model_name)\n",
    "    tokenizer.model_max_length = 256\n",
    "    return tokenizer\n",
    "\n",
    "def tokenize_text(model_name, text):\n",
    "    tokenizer = get_tokenizer(model_name)\n",
    "    tokenized_text = tokenizer(text, padding=\"max_length\", return_tensors=\"np\")\n",
    "    return tokenized_text.input_ids, tokenized_text.attention_mask\n",
    "\n",
    "def get_text_payload(model_name, text):\n",
    "    input_ids, attention_mask = tokenize_text(model_name, text)\n",
    "    payload = {}\n",
    "    payload[\"inputs\"] = []\n",
    "    payload[\"inputs\"].append({\"name\": \"input_ids\", \"shape\": input_ids.shape, \"datatype\": \"INT32\", \"data\": input_ids.tolist()})\n",
    "    payload[\"inputs\"].append({\"name\": \"attention_mask\", \"shape\": attention_mask.shape, \"datatype\": \"INT32\", \"data\": attention_mask.tolist()})\n",
    "    return payload"
   ]
  },
  {
   "cell_type": "markdown",
   "id": "0b75212f-405e-44da-a232-25f29698fa34",
   "metadata": {},
   "source": [
    "#### Invoke target model on Multi Model Endpoint"
   ]
  },
  {
   "cell_type": "markdown",
   "id": "20d04fe1-5b8b-44f4-84db-d8963a4a1b37",
   "metadata": {},
   "source": [
    "We can send inference request to multi-model endpoint using `invoke_enpoint` API. We specify the `TargetModel` in the invocation call and pass in the payload for each model type."
   ]
  },
  {
   "cell_type": "markdown",
   "id": "62d0d3ca",
   "metadata": {},
   "source": [
    "#### DistilBERT TensorFlow Model"
   ]
  },
  {
   "cell_type": "markdown",
   "id": "101607d0-4f94-480b-a232-93983b903e9d",
   "metadata": {},
   "source": [
    "First, we show some sample inference on the DistilBERT TensorFlow Binary Classification Model deployed on Triton's TensorFlow SavedModel Backend behind SageMaker MME GPU endpoint"
   ]
  },
  {
   "cell_type": "code",
   "execution_count": 109,
   "id": "c6f10516-214d-4fbc-ba0c-40b069259891",
   "metadata": {},
   "outputs": [],
   "source": [
    "texts_to_classify = [\"Many critics thought the sequel film was unnecessary\",\n",
    "                     \"The movie received praise for the visuals and cast\",\n",
    "                     \"Spectacular! Great history and amazing architecture!\"]"
   ]
  },
  {
   "cell_type": "code",
   "execution_count": 110,
   "id": "c424b81c-232c-45d3-ab58-855a1d13a12d",
   "metadata": {},
   "outputs": [],
   "source": [
    "distilbert_model = \"distilbert-base-uncased-finetuned-sst-2-english\"\n",
    "distilbert_payload = get_text_payload(distilbert_model, texts_to_classify)"
   ]
  },
  {
   "cell_type": "code",
   "execution_count": 117,
   "id": "d57269c9-54d9-45bd-8d18-07852d5ad1cb",
   "metadata": {},
   "outputs": [
    {
     "name": "stdout",
     "output_type": "stream",
     "text": [
      "['NEGATIVE', 'POSITIVE', 'POSITIVE']\n"
     ]
    }
   ],
   "source": [
    "response = runtime_sm_client.invoke_endpoint(\n",
    "    EndpointName=endpoint_name,\n",
    "    ContentType=\"application/octet-stream\",\n",
    "    Body=json.dumps(distilbert_payload),\n",
    "    TargetModel=\"distilbert_tf.tar.gz\",\n",
    ")\n",
    "\n",
    "response_body = json.loads(response[\"Body\"].read().decode(\"utf8\"))\n",
    "logits = np.array(response_body[\"outputs\"][0][\"data\"]).reshape(-1, 2)\n",
    "CLASSES = [\"NEGATIVE\", \"POSITIVE\"]\n",
    "predictions = []\n",
    "\n",
    "for i in range(len(logits)):\n",
    "    pred_class_idx = np.argmax(logits[i])\n",
    "    predictions.append(CLASSES[pred_class_idx])\n",
    "print(predictions)"
   ]
  },
  {
   "cell_type": "markdown",
   "id": "6eca4247-4acf-48c3-8a26-a47148cf9b48",
   "metadata": {},
   "source": [
    "#### Binary + Json Payload"
   ]
  },
  {
   "cell_type": "markdown",
   "id": "74fb59c1-e4b4-45c4-ace4-9f22afbcd057",
   "metadata": {},
   "source": [
    "We can also use `binary+json` as the payload format to get better performance for the inference call. The specification of this format is provided [here](https://github.com/triton-inference-server/server/blob/main/docs/protocol/extension_binary_data.md).\n",
    "\n",
    "**Note:** With the binary+json format, we have to specify the length of the request metadata in the header to allow Triton to correctly parse the binary payload. This is done using a custom Content-Type header `Application/vnd.sagemaker-triton.binary+json;json-header-size={}`.\n",
    "\n",
    "Please note, this is different from using `Inference-Header-Content-Length` header on a stand-alone Triton server since custom headers are not allowed in SageMaker."
   ]
  },
  {
   "cell_type": "markdown",
   "id": "2cfc2dbd-d725-4a5e-9e43-0deeed5bf9a5",
   "metadata": {},
   "source": [
    "The `tritonclient` package in Triton provides utility methods to generate the payload without having to know the details of the specification. We'll use the following method to convert our inference request for DistilBERT and T5 models into a binary format which provides lower latencies for inference."
   ]
  },
  {
   "cell_type": "code",
   "execution_count": null,
   "id": "a0b42747-cb90-4702-abd0-b8e79bc8b337",
   "metadata": {},
   "outputs": [],
   "source": [
    "import tritonclient.http as httpclient\n",
    "import numpy as np\n",
    "\n",
    "def get_text_payload_binary(model_name, text):\n",
    "    inputs = []\n",
    "    outputs = []\n",
    "    input_ids, attention_mask = tokenize_text(model_name, text)\n",
    "    inputs.append(httpclient.InferInput(\"input_ids\", input_ids.shape, \"INT32\"))\n",
    "    inputs.append(httpclient.InferInput(\"attention_mask\", attention_mask.shape, \"INT32\"))\n",
    "\n",
    "    inputs[0].set_data_from_numpy(input_ids.astype(np.int32), binary_data=True)\n",
    "    inputs[1].set_data_from_numpy(attention_mask.astype(np.int32), binary_data=True)\n",
    "    \n",
    "    output_name = \"output\" if model_name == \"t5-small\" else \"logits\"\n",
    "    request_body, header_length = httpclient.InferenceServerClient.generate_request_body(\n",
    "        inputs, outputs=outputs\n",
    "    )\n",
    "    return request_body, header_length"
   ]
  },
  {
   "cell_type": "code",
   "execution_count": 41,
   "id": "e19ae6fa-973c-4ccd-a2cf-9c336cc8e4eb",
   "metadata": {},
   "outputs": [],
   "source": [
    "request_body, header_length = get_text_payload_binary(distilbert_model, texts_to_classify)"
   ]
  },
  {
   "cell_type": "code",
   "execution_count": 42,
   "id": "8b11af76-9682-4503-8760-e19a6944eff9",
   "metadata": {},
   "outputs": [],
   "source": [
    "response = runtime_sm_client.invoke_endpoint(EndpointName=endpoint_name,\n",
    "                                  ContentType='application/vnd.sagemaker-triton.binary+json;json-header-size={}'.format(header_length),\n",
    "                                  Body=request_body,\n",
    "                                  TargetModel='distilbert_tf.tar.gz')\n",
    "\n",
    "# Parse json header size length from the response\n",
    "header_length_prefix = \"application/vnd.sagemaker-triton.binary+json;json-header-size=\"\n",
    "header_length_str = response['ContentType'][len(header_length_prefix):]\n",
    "output_name = \"logits\"\n",
    "# Read response body\n",
    "result = httpclient.InferenceServerClient.parse_response_body(\n",
    "    response['Body'].read(), header_length=int(header_length_str))\n",
    "logits = result.as_numpy(output_name)\n",
    "CLASSES = [\"NEGATIVE\", \"POSITIVE\"]\n",
    "predictions = []\n",
    "\n",
    "for i in range(len(logits)):\n",
    "    pred_class_idx = np.argmax(logits[i])\n",
    "    predictions.append(CLASSES[pred_class_idx])\n",
    "print(predictions)"
   ]
  },
  {
   "cell_type": "markdown",
   "id": "92d2833f",
   "metadata": {},
   "source": [
    "#### T5 PyTorch Model"
   ]
  },
  {
   "cell_type": "markdown",
   "id": "1ca9c23f-02a9-4187-9896-83584eb0d0c8",
   "metadata": {},
   "source": [
    "Next, we show some sample inference for summarization on the T5 PyTorch Model deployed on Triton's Python Backend behind SageMaker MME GPU endpoint"
   ]
  },
  {
   "cell_type": "code",
   "execution_count": 122,
   "id": "f94530b0-6e76-4faa-9180-8bddb205321d",
   "metadata": {},
   "outputs": [],
   "source": [
    "texts_to_summarize = [\"summarize: SageMaker enables customers to deploy a model using custom code with NVIDIA Triton Inference Server's Python Backend\"]"
   ]
  },
  {
   "cell_type": "markdown",
   "id": "e4552627-ab54-406f-a94e-3bb6931790f9",
   "metadata": {},
   "source": [
    "##### Sample Inference using Json Payload"
   ]
  },
  {
   "cell_type": "code",
   "execution_count": 123,
   "id": "1e1f0f2f-84d7-4469-9660-9c1d4f8416cf",
   "metadata": {},
   "outputs": [],
   "source": [
    "t5_payload = get_text_payload(\"t5-small\", texts_to_summarize)"
   ]
  },
  {
   "cell_type": "code",
   "execution_count": 127,
   "id": "bf9d3788-8d83-4384-a0f9-d9b483d5887d",
   "metadata": {},
   "outputs": [],
   "source": [
    "response = runtime_sm_client.invoke_endpoint(\n",
    "    EndpointName=endpoint_name,\n",
    "    ContentType=\"application/octet-stream\",\n",
    "    Body=json.dumps(t5_payload),\n",
    "    TargetModel=\"t5_pytorch.tar.gz\",\n",
    ")\n",
    "\n",
    "response_body = json.loads(response[\"Body\"].read().decode(\"utf8\"))\n",
    "output_ids = np.array(response_body[\"outputs\"][0][\"data\"])"
   ]
  },
  {
   "cell_type": "code",
   "execution_count": 128,
   "id": "d69d1bb9-5be9-4708-bc4a-a14dfa157cb9",
   "metadata": {},
   "outputs": [
    {
     "data": {
      "text/plain": [
       "array([    0, 21429, 22638,    52,     3,  7161,   722,    12, 17274,\n",
       "           3,     9,   825,   338,  1653,  1081,    28,   445,  7765,\n",
       "       24605,  2702,    17,   106,    86, 11788,  5860,    31,     7,\n",
       "       20737,  3195,   989,     3,     5,     1])"
      ]
     },
     "execution_count": 128,
     "metadata": {},
     "output_type": "execute_result"
    }
   ],
   "source": [
    "output_ids"
   ]
  },
  {
   "cell_type": "markdown",
   "id": "262c3e36-45c2-4ee5-b397-ec43ac76f3a8",
   "metadata": {},
   "source": [
    "##### Sample Inference using Binary + Json Payload"
   ]
  },
  {
   "cell_type": "code",
   "execution_count": 46,
   "id": "6c57ddb3-d939-4ca9-8b6d-424f9cf17744",
   "metadata": {},
   "outputs": [
    {
     "data": {
      "application/vnd.jupyter.widget-view+json": {
       "model_id": "9cfeb960e6c74e16aaf8ca537074f29e",
       "version_major": 2,
       "version_minor": 0
      },
      "text/plain": [
       "Downloading:   0%|          | 0.00/1.20k [00:00<?, ?B/s]"
      ]
     },
     "metadata": {},
     "output_type": "display_data"
    },
    {
     "data": {
      "application/vnd.jupyter.widget-view+json": {
       "model_id": "561223e66a2a4d619a2ab17470d9afc4",
       "version_major": 2,
       "version_minor": 0
      },
      "text/plain": [
       "Downloading:   0%|          | 0.00/792k [00:00<?, ?B/s]"
      ]
     },
     "metadata": {},
     "output_type": "display_data"
    },
    {
     "data": {
      "application/vnd.jupyter.widget-view+json": {
       "model_id": "516460af9231430bba9d3dd1abdbeadf",
       "version_major": 2,
       "version_minor": 0
      },
      "text/plain": [
       "Downloading:   0%|          | 0.00/1.39M [00:00<?, ?B/s]"
      ]
     },
     "metadata": {},
     "output_type": "display_data"
    },
    {
     "name": "stderr",
     "output_type": "stream",
     "text": [
      "/home/ec2-user/anaconda3/envs/python3/lib/python3.8/site-packages/transformers/models/t5/tokenization_t5_fast.py:156: FutureWarning: This tokenizer was incorrectly instantiated with a model max length of 512 which will be corrected in Transformers v5.\n",
      "For now, this behavior is kept to avoid breaking backwards compatibility when padding/encoding with `truncation is True`.\n",
      "- Be aware that you SHOULD NOT rely on t5-small automatically truncating your input to 512 when padding/encoding.\n",
      "- If you want to encode/pad to sequences longer than 512 you can either instantiate this tokenizer with `model_max_length` or pass `max_length` when encoding/padding.\n",
      "- To avoid this warning, please instantiate this tokenizer with `model_max_length` set to your preferred value.\n",
      "  warnings.warn(\n"
     ]
    }
   ],
   "source": [
    "request_body, header_length = get_text_payload_binary(\"t5-small\", texts_to_summarize)"
   ]
  },
  {
   "cell_type": "code",
   "execution_count": null,
   "id": "0d17ffda-dfad-43fe-8314-68d6a063360c",
   "metadata": {},
   "outputs": [],
   "source": [
    "response = runtime_sm_client.invoke_endpoint(EndpointName=endpoint_name,\n",
    "                                  ContentType='application/vnd.sagemaker-triton.binary+json;json-header-size={}'.format(header_length),\n",
    "                                  Body=request_body,\n",
    "                                 TargetModel='t5_pytorch.tar.gz')"
   ]
  },
  {
   "cell_type": "code",
   "execution_count": null,
   "id": "79bab920",
   "metadata": {
    "scrolled": true
   },
   "outputs": [],
   "source": [
    "# Parse json header size length from the response\n",
    "header_length_prefix = \"application/vnd.sagemaker-triton.binary+json;json-header-size=\"\n",
    "header_length_str = response['ContentType'][len(header_length_prefix):]\n",
    "output_name = \"output\"\n",
    "# Read response body\n",
    "result = httpclient.InferenceServerClient.parse_response_body(\n",
    "    response['Body'].read(), header_length=int(header_length_str))\n",
    "output_ids = result.as_numpy(output_name)"
   ]
  },
  {
   "cell_type": "code",
   "execution_count": null,
   "id": "0e2da0ee-4463-4fba-850e-c56c1cc8a878",
   "metadata": {},
   "outputs": [],
   "source": [
    "output_ids"
   ]
  },
  {
   "cell_type": "code",
   "execution_count": 151,
   "id": "98ea4468-7b51-43c6-b4fd-be2f40b4153d",
   "metadata": {},
   "outputs": [],
   "source": [
    "t5_tokenizer = get_tokenizer(t5)"
   ]
  },
  {
   "cell_type": "code",
   "execution_count": null,
   "id": "4f53dc77-b2dd-48dd-83e5-62f92b89ed08",
   "metadata": {},
   "outputs": [],
   "source": [
    "t5_tokenizer.decode(output_ids)"
   ]
  },
  {
   "cell_type": "code",
   "execution_count": 139,
   "id": "4095cef1-d9ea-458e-adbd-3975e2b1db27",
   "metadata": {},
   "outputs": [
    {
     "ename": "SystemError",
     "evalue": "      to�?() method: bad call flags",
     "output_type": "error",
     "traceback": [
      "\u001b[0;31m---------------------------------------------------------------------------\u001b[0m",
      "\u001b[0;31mSystemError\u001b[0m                               Traceback (most recent call last)",
      "\u001b[0;32m/tmp/ipykernel_6898/1843967587.py\u001b[0m in \u001b[0;36m<cell line: 1>\u001b[0;34m()\u001b[0m\n\u001b[0;32m----> 1\u001b[0;31m decoded_output = t5_tokenizer.decode(\n\u001b[0m\u001b[1;32m      2\u001b[0m             \u001b[0moutput_data\u001b[0m\u001b[0;34m[\u001b[0m\u001b[0;36m0\u001b[0m\u001b[0;34m]\u001b[0m\u001b[0;34m,\u001b[0m\u001b[0;34m\u001b[0m\u001b[0;34m\u001b[0m\u001b[0m\n\u001b[1;32m      3\u001b[0m             \u001b[0mskip_special_tokens\u001b[0m\u001b[0;34m=\u001b[0m\u001b[0;32mTrue\u001b[0m\u001b[0;34m,\u001b[0m\u001b[0;34m\u001b[0m\u001b[0;34m\u001b[0m\u001b[0m\n\u001b[1;32m      4\u001b[0m             \u001b[0mclean_up_tokenization_spaces\u001b[0m\u001b[0;34m=\u001b[0m\u001b[0;32mFalse\u001b[0m\u001b[0;34m,\u001b[0m\u001b[0;34m\u001b[0m\u001b[0;34m\u001b[0m\u001b[0m\n\u001b[1;32m      5\u001b[0m         )\n",
      "\u001b[0;32m~/anaconda3/envs/pytorch_p38/lib/python3.8/site-packages/transformers/tokenization_utils_base.py\u001b[0m in \u001b[0;36mdecode\u001b[0;34m(self, token_ids, skip_special_tokens, clean_up_tokenization_spaces, **kwargs)\u001b[0m\n\u001b[1;32m   3428\u001b[0m         \"\"\"\n\u001b[1;32m   3429\u001b[0m         \u001b[0;31m# Convert inputs to python lists\u001b[0m\u001b[0;34m\u001b[0m\u001b[0;34m\u001b[0m\u001b[0;34m\u001b[0m\u001b[0m\n\u001b[0;32m-> 3430\u001b[0;31m         \u001b[0mtoken_ids\u001b[0m \u001b[0;34m=\u001b[0m \u001b[0mto_py_obj\u001b[0m\u001b[0;34m(\u001b[0m\u001b[0mtoken_ids\u001b[0m\u001b[0;34m)\u001b[0m\u001b[0;34m\u001b[0m\u001b[0;34m\u001b[0m\u001b[0m\n\u001b[0m\u001b[1;32m   3431\u001b[0m \u001b[0;34m\u001b[0m\u001b[0m\n\u001b[1;32m   3432\u001b[0m         return self._decode(\n",
      "\u001b[0;32m~/anaconda3/envs/pytorch_p38/lib/python3.8/site-packages/transformers/utils/generic.py\u001b[0m in \u001b[0;36mto_py_obj\u001b[0;34m(obj)\u001b[0m\n\u001b[1;32m    118\u001b[0m     \u001b[0;32melif\u001b[0m \u001b[0mis_tf_available\u001b[0m\u001b[0;34m(\u001b[0m\u001b[0;34m)\u001b[0m \u001b[0;32mand\u001b[0m \u001b[0m_is_tensorflow\u001b[0m\u001b[0;34m(\u001b[0m\u001b[0mobj\u001b[0m\u001b[0;34m)\u001b[0m\u001b[0;34m:\u001b[0m\u001b[0;34m\u001b[0m\u001b[0;34m\u001b[0m\u001b[0m\n\u001b[1;32m    119\u001b[0m         \u001b[0;32mreturn\u001b[0m \u001b[0mobj\u001b[0m\u001b[0;34m.\u001b[0m\u001b[0mnumpy\u001b[0m\u001b[0;34m(\u001b[0m\u001b[0;34m)\u001b[0m\u001b[0;34m.\u001b[0m\u001b[0mtolist\u001b[0m\u001b[0;34m(\u001b[0m\u001b[0;34m)\u001b[0m\u001b[0;34m\u001b[0m\u001b[0;34m\u001b[0m\u001b[0m\n\u001b[0;32m--> 120\u001b[0;31m     \u001b[0;32melif\u001b[0m \u001b[0mis_torch_available\u001b[0m\u001b[0;34m(\u001b[0m\u001b[0;34m)\u001b[0m \u001b[0;32mand\u001b[0m \u001b[0m_is_torch\u001b[0m\u001b[0;34m(\u001b[0m\u001b[0mobj\u001b[0m\u001b[0;34m)\u001b[0m\u001b[0;34m:\u001b[0m\u001b[0;34m\u001b[0m\u001b[0;34m\u001b[0m\u001b[0m\n\u001b[0m\u001b[1;32m    121\u001b[0m         \u001b[0;32mreturn\u001b[0m \u001b[0mobj\u001b[0m\u001b[0;34m.\u001b[0m\u001b[0mdetach\u001b[0m\u001b[0;34m(\u001b[0m\u001b[0;34m)\u001b[0m\u001b[0;34m.\u001b[0m\u001b[0mcpu\u001b[0m\u001b[0;34m(\u001b[0m\u001b[0;34m)\u001b[0m\u001b[0;34m.\u001b[0m\u001b[0mtolist\u001b[0m\u001b[0;34m(\u001b[0m\u001b[0;34m)\u001b[0m\u001b[0;34m\u001b[0m\u001b[0;34m\u001b[0m\u001b[0m\n\u001b[1;32m    122\u001b[0m     \u001b[0;32melif\u001b[0m \u001b[0mis_flax_available\u001b[0m\u001b[0;34m(\u001b[0m\u001b[0;34m)\u001b[0m \u001b[0;32mand\u001b[0m \u001b[0m_is_jax\u001b[0m\u001b[0;34m(\u001b[0m\u001b[0mobj\u001b[0m\u001b[0;34m)\u001b[0m\u001b[0;34m:\u001b[0m\u001b[0;34m\u001b[0m\u001b[0;34m\u001b[0m\u001b[0m\n",
      "\u001b[0;32m~/anaconda3/envs/pytorch_p38/lib/python3.8/site-packages/transformers/utils/generic.py\u001b[0m in \u001b[0;36m_is_torch\u001b[0;34m(x)\u001b[0m\n\u001b[1;32m     85\u001b[0m \u001b[0;34m\u001b[0m\u001b[0m\n\u001b[1;32m     86\u001b[0m \u001b[0;32mdef\u001b[0m \u001b[0m_is_torch\u001b[0m\u001b[0;34m(\u001b[0m\u001b[0mx\u001b[0m\u001b[0;34m)\u001b[0m\u001b[0;34m:\u001b[0m\u001b[0;34m\u001b[0m\u001b[0;34m\u001b[0m\u001b[0m\n\u001b[0;32m---> 87\u001b[0;31m     \u001b[0;32mimport\u001b[0m \u001b[0mtorch\u001b[0m\u001b[0;34m\u001b[0m\u001b[0;34m\u001b[0m\u001b[0m\n\u001b[0m\u001b[1;32m     88\u001b[0m \u001b[0;34m\u001b[0m\u001b[0m\n\u001b[1;32m     89\u001b[0m     \u001b[0;32mreturn\u001b[0m \u001b[0misinstance\u001b[0m\u001b[0;34m(\u001b[0m\u001b[0mx\u001b[0m\u001b[0;34m,\u001b[0m \u001b[0mtorch\u001b[0m\u001b[0;34m.\u001b[0m\u001b[0mTensor\u001b[0m\u001b[0;34m)\u001b[0m\u001b[0;34m\u001b[0m\u001b[0;34m\u001b[0m\u001b[0m\n",
      "\u001b[0;32m~/anaconda3/envs/pytorch_p38/lib/python3.8/site-packages/torch/__init__.py\u001b[0m in \u001b[0;36m<module>\u001b[0;34m\u001b[0m\n\u001b[1;32m    195\u001b[0m     \u001b[0;32mif\u001b[0m \u001b[0mUSE_GLOBAL_DEPS\u001b[0m\u001b[0;34m:\u001b[0m\u001b[0;34m\u001b[0m\u001b[0;34m\u001b[0m\u001b[0m\n\u001b[1;32m    196\u001b[0m         \u001b[0m_load_global_deps\u001b[0m\u001b[0;34m(\u001b[0m\u001b[0;34m)\u001b[0m\u001b[0;34m\u001b[0m\u001b[0;34m\u001b[0m\u001b[0m\n\u001b[0;32m--> 197\u001b[0;31m     \u001b[0;32mfrom\u001b[0m \u001b[0mtorch\u001b[0m\u001b[0;34m.\u001b[0m\u001b[0m_C\u001b[0m \u001b[0;32mimport\u001b[0m \u001b[0;34m*\u001b[0m  \u001b[0;31m# noqa: F403\u001b[0m\u001b[0;34m\u001b[0m\u001b[0;34m\u001b[0m\u001b[0m\n\u001b[0m\u001b[1;32m    198\u001b[0m \u001b[0;34m\u001b[0m\u001b[0m\n\u001b[1;32m    199\u001b[0m \u001b[0;31m# Appease the type checker; ordinarily this binding is inserted by the\u001b[0m\u001b[0;34m\u001b[0m\u001b[0;34m\u001b[0m\u001b[0;34m\u001b[0m\u001b[0m\n",
      "\u001b[0;31mSystemError\u001b[0m:       to�?() method: bad call flags"
     ]
    }
   ],
   "source": [
    "decoded_output = t5_tokenizer.decode(\n",
    "            output_data[0],\n",
    "            skip_special_tokens=True,\n",
    "            clean_up_tokenization_spaces=False,\n",
    "        )\n",
    "decoded_output"
   ]
  },
  {
   "cell_type": "markdown",
   "id": "b73c23ed",
   "metadata": {},
   "source": [
    "### Terminate endpoint and clean up artifacts"
   ]
  },
  {
   "cell_type": "code",
   "execution_count": 66,
   "id": "1fceaccf",
   "metadata": {},
   "outputs": [
    {
     "ename": "ClientError",
     "evalue": "An error occurred (ValidationException) when calling the DeleteModel operation: Could not find model \"arn:aws:sagemaker:us-west-2:354625738399:model/nlp-mme-gpu-mdl-2022-10-26-22-53-12\".",
     "output_type": "error",
     "traceback": [
      "\u001b[0;31m---------------------------------------------------------------------------\u001b[0m",
      "\u001b[0;31mClientError\u001b[0m                               Traceback (most recent call last)",
      "\u001b[0;32m/tmp/ipykernel_10586/1993382557.py\u001b[0m in \u001b[0;36m<cell line: 1>\u001b[0;34m()\u001b[0m\n\u001b[0;32m----> 1\u001b[0;31m \u001b[0msm_client\u001b[0m\u001b[0;34m.\u001b[0m\u001b[0mdelete_model\u001b[0m\u001b[0;34m(\u001b[0m\u001b[0mModelName\u001b[0m\u001b[0;34m=\u001b[0m\u001b[0msm_model_name\u001b[0m\u001b[0;34m)\u001b[0m\u001b[0;34m\u001b[0m\u001b[0;34m\u001b[0m\u001b[0m\n\u001b[0m\u001b[1;32m      2\u001b[0m \u001b[0msm_client\u001b[0m\u001b[0;34m.\u001b[0m\u001b[0mdelete_endpoint_config\u001b[0m\u001b[0;34m(\u001b[0m\u001b[0mEndpointConfigName\u001b[0m\u001b[0;34m=\u001b[0m\u001b[0mendpoint_config_name\u001b[0m\u001b[0;34m)\u001b[0m\u001b[0;34m\u001b[0m\u001b[0;34m\u001b[0m\u001b[0m\n\u001b[1;32m      3\u001b[0m \u001b[0msm_client\u001b[0m\u001b[0;34m.\u001b[0m\u001b[0mdelete_endpoint\u001b[0m\u001b[0;34m(\u001b[0m\u001b[0mEndpointName\u001b[0m\u001b[0;34m=\u001b[0m\u001b[0mendpoint_name\u001b[0m\u001b[0;34m)\u001b[0m\u001b[0;34m\u001b[0m\u001b[0;34m\u001b[0m\u001b[0m\n",
      "\u001b[0;32m~/anaconda3/envs/python3/lib/python3.8/site-packages/botocore/client.py\u001b[0m in \u001b[0;36m_api_call\u001b[0;34m(self, *args, **kwargs)\u001b[0m\n\u001b[1;32m    505\u001b[0m                 )\n\u001b[1;32m    506\u001b[0m             \u001b[0;31m# The \"self\" in this scope is referring to the BaseClient.\u001b[0m\u001b[0;34m\u001b[0m\u001b[0;34m\u001b[0m\u001b[0;34m\u001b[0m\u001b[0m\n\u001b[0;32m--> 507\u001b[0;31m             \u001b[0;32mreturn\u001b[0m \u001b[0mself\u001b[0m\u001b[0;34m.\u001b[0m\u001b[0m_make_api_call\u001b[0m\u001b[0;34m(\u001b[0m\u001b[0moperation_name\u001b[0m\u001b[0;34m,\u001b[0m \u001b[0mkwargs\u001b[0m\u001b[0;34m)\u001b[0m\u001b[0;34m\u001b[0m\u001b[0;34m\u001b[0m\u001b[0m\n\u001b[0m\u001b[1;32m    508\u001b[0m \u001b[0;34m\u001b[0m\u001b[0m\n\u001b[1;32m    509\u001b[0m         \u001b[0m_api_call\u001b[0m\u001b[0;34m.\u001b[0m\u001b[0m__name__\u001b[0m \u001b[0;34m=\u001b[0m \u001b[0mstr\u001b[0m\u001b[0;34m(\u001b[0m\u001b[0mpy_operation_name\u001b[0m\u001b[0;34m)\u001b[0m\u001b[0;34m\u001b[0m\u001b[0;34m\u001b[0m\u001b[0m\n",
      "\u001b[0;32m~/anaconda3/envs/python3/lib/python3.8/site-packages/botocore/client.py\u001b[0m in \u001b[0;36m_make_api_call\u001b[0;34m(self, operation_name, api_params)\u001b[0m\n\u001b[1;32m    941\u001b[0m             \u001b[0merror_code\u001b[0m \u001b[0;34m=\u001b[0m \u001b[0mparsed_response\u001b[0m\u001b[0;34m.\u001b[0m\u001b[0mget\u001b[0m\u001b[0;34m(\u001b[0m\u001b[0;34m\"Error\"\u001b[0m\u001b[0;34m,\u001b[0m \u001b[0;34m{\u001b[0m\u001b[0;34m}\u001b[0m\u001b[0;34m)\u001b[0m\u001b[0;34m.\u001b[0m\u001b[0mget\u001b[0m\u001b[0;34m(\u001b[0m\u001b[0;34m\"Code\"\u001b[0m\u001b[0;34m)\u001b[0m\u001b[0;34m\u001b[0m\u001b[0;34m\u001b[0m\u001b[0m\n\u001b[1;32m    942\u001b[0m             \u001b[0merror_class\u001b[0m \u001b[0;34m=\u001b[0m \u001b[0mself\u001b[0m\u001b[0;34m.\u001b[0m\u001b[0mexceptions\u001b[0m\u001b[0;34m.\u001b[0m\u001b[0mfrom_code\u001b[0m\u001b[0;34m(\u001b[0m\u001b[0merror_code\u001b[0m\u001b[0;34m)\u001b[0m\u001b[0;34m\u001b[0m\u001b[0;34m\u001b[0m\u001b[0m\n\u001b[0;32m--> 943\u001b[0;31m             \u001b[0;32mraise\u001b[0m \u001b[0merror_class\u001b[0m\u001b[0;34m(\u001b[0m\u001b[0mparsed_response\u001b[0m\u001b[0;34m,\u001b[0m \u001b[0moperation_name\u001b[0m\u001b[0;34m)\u001b[0m\u001b[0;34m\u001b[0m\u001b[0;34m\u001b[0m\u001b[0m\n\u001b[0m\u001b[1;32m    944\u001b[0m         \u001b[0;32melse\u001b[0m\u001b[0;34m:\u001b[0m\u001b[0;34m\u001b[0m\u001b[0;34m\u001b[0m\u001b[0m\n\u001b[1;32m    945\u001b[0m             \u001b[0;32mreturn\u001b[0m \u001b[0mparsed_response\u001b[0m\u001b[0;34m\u001b[0m\u001b[0;34m\u001b[0m\u001b[0m\n",
      "\u001b[0;31mClientError\u001b[0m: An error occurred (ValidationException) when calling the DeleteModel operation: Could not find model \"arn:aws:sagemaker:us-west-2:354625738399:model/nlp-mme-gpu-mdl-2022-10-26-22-53-12\"."
     ]
    }
   ],
   "source": [
    "sm_client.delete_model(ModelName=sm_model_name)\n",
    "sm_client.delete_endpoint_config(EndpointConfigName=endpoint_config_name)\n",
    "sm_client.delete_endpoint(EndpointName=endpoint_name)"
   ]
  },
  {
   "cell_type": "code",
   "execution_count": null,
   "id": "81ab4b3f-fa2c-4a5a-a9bc-7cb534e590b7",
   "metadata": {},
   "outputs": [],
   "source": []
  }
 ],
 "metadata": {
  "kernelspec": {
   "display_name": "conda_python3",
   "language": "python",
   "name": "conda_python3"
  },
  "language_info": {
   "codemirror_mode": {
    "name": "ipython",
    "version": 3
   },
   "file_extension": ".py",
   "mimetype": "text/x-python",
   "name": "python",
   "nbconvert_exporter": "python",
   "pygments_lexer": "ipython3",
   "version": "3.8.12"
  }
 },
 "nbformat": 4,
 "nbformat_minor": 5
}
