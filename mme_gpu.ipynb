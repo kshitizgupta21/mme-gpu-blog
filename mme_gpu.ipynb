{
 "cells": [
  {
   "cell_type": "markdown",
   "id": "bd9a3ec2",
   "metadata": {},
   "source": [
    "# Serve Multiple DL models on GPU with Amazon SageMaker Multi-model endpoints (MME)\n",
    "\n",
    "\n",
    "\n",
    "Amazon SageMaker multi-model endpoints(MME) provide a scalable and cost-effective way to deploy large number of deep learning models. Previously, customers had limited options to deploy 100s of deep learning models that need accelerated compute with GPUs. Now customers can deploy 1000s of deep learning models behind one SageMaker endpoint. Now, MME will run multiple models on a GPU core, share GPU instances behind an endpoint across multiple models and dynamically load/unload models based on the incoming traffic. With this, customers can significantly save cost and achieve best price performance.\n",
    "\n",
    "\n",
    "\n",
    "<div class=\"alert alert-info\"> 💡 <strong> Note </strong>\n",
    "This notebook was tested with the `conda_python3` kernel on an Amazon SageMaker notebook instance of type `g5.xlarge`.\n",
    "</div>"
   ]
  },
  {
   "cell_type": "markdown",
   "id": "923676c1-27cd-4fbd-a9ee-0cc9013a87de",
   "metadata": {},
   "source": [
    "In this notebook, we will walk you through how to use NVIDIA Triton Inference Server on Amazon SageMaker MME with GPU feature to deploy two different NLP models (**DistilBERT** and **T5**) for two different use-cases (**Classification** and **Summarization**) in two different frameworks (**TensorFlow** and **PyTorch**) on the same GPU. "
   ]
  },
  {
   "cell_type": "markdown",
   "id": "3434aca8",
   "metadata": {},
   "source": [
    "## Installs\n",
    "\n",
    "Installs the dependencies required to package the model and run inferences using Triton server. Update SageMaker, boto3, awscli etc"
   ]
  },
  {
   "cell_type": "code",
   "execution_count": null,
   "id": "f0c8baf7",
   "metadata": {},
   "outputs": [],
   "source": [
    "!pip install -qU pip awscli boto3 sagemaker\n",
    "!pip install nvidia-pyindex --quiet\n",
    "!pip install tritonclient[http] --quiet\n",
    "!pip install transformers[sentencepiece] --quiet"
   ]
  },
  {
   "cell_type": "markdown",
   "id": "64a82dd9",
   "metadata": {},
   "source": [
    "## Imports and variables"
   ]
  },
  {
   "cell_type": "code",
   "execution_count": null,
   "id": "d0457ce6",
   "metadata": {},
   "outputs": [],
   "source": [
    "import boto3, json, sagemaker, time\n",
    "from sagemaker import get_execution_role\n",
    "import numpy as np\n",
    "import os\n",
    "os.environ[\"TOKENIZERS_PARALLELISM\"] = \"false\"\n",
    "\n",
    "sm_client = boto3.client(service_name=\"sagemaker\")\n",
    "runtime_sm_client = boto3.client(\"sagemaker-runtime\")\n",
    "sagemaker_session = sagemaker.Session(boto_session=boto3.Session())\n",
    "s3_client = boto3.client('s3')\n",
    "bucket = sagemaker.Session().default_bucket()\n",
    "prefix = \"nlp-mme-gpu\"\n",
    "\n",
    "# account mapping for SageMaker MME Triton Image\n",
    "account_id_map = {\n",
    "    \"us-east-1\": \"785573368785\",\n",
    "    \"us-east-2\": \"007439368137\",\n",
    "    \"us-west-1\": \"710691900526\",\n",
    "    \"us-west-2\": \"301217895009\",\n",
    "    \"eu-west-1\": \"802834080501\",\n",
    "    \"eu-west-2\": \"205493899709\",\n",
    "    \"eu-west-3\": \"254080097072\",\n",
    "    \"eu-north-1\": \"601324751636\",\n",
    "    \"eu-south-1\": \"966458181534\",\n",
    "    \"eu-central-1\": \"746233611703\",\n",
    "    \"ap-east-1\": \"110948597952\",\n",
    "    \"ap-south-1\": \"763008648453\",\n",
    "    \"ap-northeast-1\": \"941853720454\",\n",
    "    \"ap-northeast-2\": \"151534178276\",\n",
    "    \"ap-southeast-1\": \"324986816169\",\n",
    "    \"ap-southeast-2\": \"355873309152\",\n",
    "    \"cn-northwest-1\": \"474822919863\",\n",
    "    \"cn-north-1\": \"472730292857\",\n",
    "    \"sa-east-1\": \"756306329178\",\n",
    "    \"ca-central-1\": \"464438896020\",\n",
    "    \"me-south-1\": \"836785723513\",\n",
    "    \"af-south-1\": \"774647643957\",\n",
    "}\n",
    "\n",
    "region = boto3.Session().region_name\n",
    "if region not in account_id_map.keys():\n",
    "    raise (\"UNSUPPORTED REGION\")\n",
    "\n",
    "base = \"amazonaws.com.cn\" if region.startswith(\"cn-\") else \"amazonaws.com\"\n",
    "mme_triton_image_uri = (\n",
    "    \"{account_id}.dkr.ecr.{region}.{base}/sagemaker-tritonserver:22.09-py3\".format(\n",
    "        account_id=account_id_map[region], region=region, base=base\n",
    "    )\n",
    ")"
   ]
  },
  {
   "cell_type": "markdown",
   "id": "0f5b7b45",
   "metadata": {},
   "source": [
    "## Workflow Overview\n",
    "\n",
    "This section presents overview of main steps for preparing DistilBERT TensorFlow model (served using TensorFlow backend) and T5 Pytorch (served using Python backend) model to be served using Triton Inference Server.\n",
    "### 1. Generate Model Artifacts\n",
    "\n",
    "#### DistilBERT TensorFlow model"
   ]
  },
  {
   "cell_type": "markdown",
   "id": "6eb1ebfc-e7c3-4635-a0e2-6388a9f61c52",
   "metadata": {},
   "source": [
    "First, we use HuggingFace transformers to load pre-trained DistilBERT TensorFlow model that has been fine-tuned for sentiment analysis binary classification task. Then, we save the model as SavedModel serialized format. The `generate_distilbert_tf.sh` bash script performs all these steps inside the NGC TensorFlow container. Run the command below to generate DistilBERT Tensorflow model. It can take a few minutes."
   ]
  },
  {
   "cell_type": "code",
   "execution_count": null,
   "id": "1ad04ad7",
   "metadata": {
    "scrolled": true
   },
   "outputs": [],
   "source": [
    "!docker run --gpus=all --ipc=host --ulimit memlock=-1 --ulimit stack=67108864 --rm -it \\\n",
    "            -v `pwd`/workspace:/workspace nvcr.io/nvidia/tensorflow:22.09-tf2-py3 \\\n",
    "            /bin/bash generate_distilbert_tf.sh"
   ]
  },
  {
   "cell_type": "markdown",
   "id": "6d8feff7",
   "metadata": {},
   "source": [
    "#### T5 PyTorch Model\n",
    "\n",
    "In case of T5-small HuggingFace PyTorch Model, since we are serving it using Triton's [python backend](https://github.com/triton-inference-server/python_backend#usage) we have python script [model.py](./workspace/model.py) which implements all the logic to initialize the T5 model and execute inference for the summarization task."
   ]
  },
  {
   "cell_type": "markdown",
   "id": "669675da",
   "metadata": {},
   "source": [
    "### 2. Build Model Respository\n",
    "\n",
    "Using Triton on SageMaker requires us to first set up a [model repository](https://github.com/triton-inference-server/server/blob/main/docs/user_guide/model_repository.md) folder containing the models we want to serve. For each model we need to create a model directory consisting of the model artifact and define config.pbtxt file to specify [model configuration](https://github.com/triton-inference-server/server/blob/main/docs/model_configuration.md) which Triton uses to load and serve the model. \n",
    "\n"
   ]
  },
  {
   "cell_type": "markdown",
   "id": "ab93b2de",
   "metadata": {},
   "source": [
    "#### DistilBERT TensorFlow Model\n",
    "\n",
    "Model repository structure for DistilBERT TensorFlow Model.\n",
    "\n",
    "```\n",
    "distilbert_tf\n",
    "├── 1\n",
    "│   └── model.savedmodel\n",
    "└── config.pbtxt\n",
    "```\n",
    "\n",
    "Model configuration must specify the platform and backend properties, max_batch_size property and the input and output tensors of the model. Additionally, you can specify instance_group and dynamic_batching properties for optimal inference performance in terms of latency and concurrency."
   ]
  },
  {
   "cell_type": "markdown",
   "id": "0799ee5f-98d8-4308-b320-bb26a1ed4e80",
   "metadata": {},
   "source": [
    "Below we set up the DistilBERT TensorFlow Model in the model repository:"
   ]
  },
  {
   "cell_type": "code",
   "execution_count": null,
   "id": "72023628-3caf-4496-a013-26195697e385",
   "metadata": {},
   "outputs": [],
   "source": [
    "!mkdir -p model_repository/distilbert_tf/1\n",
    "!cp -r workspace/hf_distilbert/saved_model/1 workspace/model.savedmodel\n",
    "!cp -r workspace/model.savedmodel model_repository/distilbert_tf/1/"
   ]
  },
  {
   "cell_type": "markdown",
   "id": "233b4448-8140-43b2-a80e-3d419ab29f73",
   "metadata": {},
   "source": [
    "Then we define its config file:"
   ]
  },
  {
   "cell_type": "code",
   "execution_count": null,
   "id": "0f10055c",
   "metadata": {},
   "outputs": [],
   "source": [
    "%%writefile model_repository/distilbert_tf/config.pbtxt\n",
    "name: \"distilbert_tf\"\n",
    "platform: \"tensorflow_savedmodel\"\n",
    "max_batch_size: 8\n",
    "input: [\n",
    "    {\n",
    "        name: \"input_ids\"\n",
    "        data_type: TYPE_INT32\n",
    "        dims: [ -1 ]\n",
    "    },\n",
    "    {\n",
    "        name: \"attention_mask\"\n",
    "        data_type: TYPE_INT32\n",
    "        dims: [ -1 ]\n",
    "    }\n",
    "]\n",
    "output: [\n",
    "    {\n",
    "        name: \"logits\"\n",
    "        data_type: TYPE_FP32\n",
    "        dims: [ 2 ]\n",
    "    }\n",
    "]\n",
    "instance_group {\n",
    "  count: 1\n",
    "  kind: KIND_GPU\n",
    "}\n",
    "dynamic_batching {\n",
    "  preferred_batch_size: 4\n",
    "}"
   ]
  },
  {
   "cell_type": "markdown",
   "id": "101cbf9a",
   "metadata": {},
   "source": [
    "#### T5 Python Backend Model\n",
    "\n",
    "Model repository structure for T5 Model.\n",
    "\n",
    "```\n",
    "t5\n",
    "├── 1\n",
    "│   └── model.py\n",
    "└── config.pbtxt\n",
    "```\n"
   ]
  },
  {
   "cell_type": "markdown",
   "id": "469cb8fb-0e93-4b7d-bcb0-e0ac67f6447e",
   "metadata": {},
   "source": [
    "Next we set up the T5 PyTorch Python Backend Model in the model repository:"
   ]
  },
  {
   "cell_type": "code",
   "execution_count": null,
   "id": "847b575e-5c69-42b2-9627-8159e94aa8df",
   "metadata": {},
   "outputs": [],
   "source": [
    "!mkdir -p model_repository/t5_pytorch/1\n",
    "!cp workspace/model.py model_repository/t5_pytorch/1/"
   ]
  },
  {
   "cell_type": "markdown",
   "id": "b9600f44-fc6f-4826-b846-e6515512ecd2",
   "metadata": {},
   "source": [
    "##### Create Conda Environment for Dependencies\n",
    "\n",
    "For serving the HuggingFace T5 PyTorch Model using Triton's Python backend we have PyTorch and HuggingFace transformers as dependencies.\n",
    "\n",
    "We follow the instructions from the [Triton documentation for packaging dependencies](https://github.com/triton-inference-server/python_backend#2-packaging-the-conda-environment) to be used in the python backend as conda env tar file. Running the bash script [create_hf_env.sh]('./workspace/create_hf_env.sh') creates the conda environment containing PyTorch and HuggingFace transformers, packages it as tar file and then we move it into the t5-pytorch model directory. This can take a few minutes."
   ]
  },
  {
   "cell_type": "code",
   "execution_count": null,
   "id": "bb553e27-1758-4bff-a10d-6b66b5c4c78f",
   "metadata": {
    "scrolled": true,
    "tags": []
   },
   "outputs": [],
   "source": [
    "!bash workspace/create_hf_env.sh\n",
    "!mv hf_env.tar.gz model_repository/t5_pytorch/"
   ]
  },
  {
   "cell_type": "markdown",
   "id": "7c4266ed-2855-4c98-9a72-00db73e3a389",
   "metadata": {},
   "source": [
    "After creating the tar file from the conda environment and placing it in model folder, you need to tell Python backend to use that environment for your model. We do this by including the lines below in the model `config.pbtxt` file:\n",
    "\n",
    "```\n",
    "parameters: {\n",
    "  key: \"EXECUTION_ENV_PATH\",\n",
    "  value: {string_value: \"$$TRITON_MODEL_DIRECTORY/hf_env.tar.gz\"}\n",
    "}\n",
    "```\n",
    "Here, `$$TRITON_MODEL_DIRECTORY` helps provide environment path relative to the model folder in model repository and is resolved to `$pwd/model_repository/t5_pytorch`. Finally `hf_env.tar.gz` is the name we gave to our conda env file."
   ]
  },
  {
   "cell_type": "markdown",
   "id": "03b9e0ca-85b6-4ec8-8bc5-0f8782cc7f81",
   "metadata": {},
   "source": [
    "Now we are ready to define the config file for t5 pytorch model being served through Triton's Python Backend:"
   ]
  },
  {
   "cell_type": "code",
   "execution_count": null,
   "id": "b7539da4-801a-47f7-84c1-d966a4254e8d",
   "metadata": {},
   "outputs": [],
   "source": [
    "%%writefile model_repository/t5_pytorch/config.pbtxt\n",
    "name: \"t5\"\n",
    "backend: \"python\"\n",
    "max_batch_size: 8\n",
    "input: [\n",
    "    {\n",
    "        name: \"input_ids\"\n",
    "        data_type: TYPE_INT32\n",
    "        dims: [ -1 ]\n",
    "    },\n",
    "    {\n",
    "        name: \"attention_mask\"\n",
    "        data_type: TYPE_INT32\n",
    "        dims: [ -1 ]\n",
    "    }\n",
    "]\n",
    "output [\n",
    "  {\n",
    "    name: \"output\"\n",
    "    data_type: TYPE_INT32\n",
    "    dims: [ -1 ]\n",
    "  }\n",
    "]\n",
    "instance_group {\n",
    "  count: 1\n",
    "  kind: KIND_GPU\n",
    "}\n",
    "dynamic_batching {\n",
    "  preferred_batch_size: 4\n",
    "}\n",
    "parameters: {\n",
    "  key: \"EXECUTION_ENV_PATH\",\n",
    "  value: {string_value: \"$$TRITON_MODEL_DIRECTORY/hf_env.tar.gz\"}\n",
    "}"
   ]
  },
  {
   "cell_type": "markdown",
   "id": "12ff2aca",
   "metadata": {},
   "source": [
    "### 3. Package models and upload to S3\n",
    "\n",
    "Next, we will package our models as `*.tar.gz` files for uploading to S3. "
   ]
  },
  {
   "cell_type": "code",
   "execution_count": null,
   "id": "cd130786",
   "metadata": {},
   "outputs": [],
   "source": [
    "!tar -C model_repository/ -czf distilbert_tf.tar.gz distilbert_tf\n",
    "model_uri_distilbert_tf = sagemaker_session.upload_data(path=\"distilbert_tf.tar.gz\", key_prefix=prefix)"
   ]
  },
  {
   "cell_type": "code",
   "execution_count": null,
   "id": "4dee5834-5363-49a3-9457-de37ac579733",
   "metadata": {},
   "outputs": [],
   "source": [
    "!tar -C model_repository/ -czf t5_pytorch.tar.gz t5_pytorch\n",
    "model_uri_t5_pytorch = sagemaker_session.upload_data(path=\"t5_pytorch.tar.gz\", key_prefix=prefix)"
   ]
  },
  {
   "cell_type": "markdown",
   "id": "c1bec3b9",
   "metadata": {},
   "source": [
    "### 4. Create SageMaker Endpoint\n",
    "\n",
    "Now that we have uploaded the model artifacts to S3, we can create a SageMaker multi-model endpoint."
   ]
  },
  {
   "cell_type": "markdown",
   "id": "fa08469b-e9cc-44db-8c8d-0fa81f69e811",
   "metadata": {},
   "source": [
    "#### Define the serving container\n",
    "In the container definition, define the `ModelDataUrl` to specify the S3 directory that contains all the models that SageMaker multi-model endpoint will use to load and serve predictions. Set `Mode` to `MultiModel` to indicate SageMaker would create the endpoint with MME container specifications. We set the container with an image that supports deploying multi-model endpoints with GPU"
   ]
  },
  {
   "cell_type": "code",
   "execution_count": null,
   "id": "c29f9c8b",
   "metadata": {},
   "outputs": [],
   "source": [
    "model_data_url = f\"s3://{bucket}/{prefix}/\"\n",
    "\n",
    "container = {\n",
    "    \"Image\": mme_triton_image_uri,\n",
    "    \"ModelDataUrl\": model_data_url,\n",
    "    \"Mode\": \"MultiModel\",\n",
    "}"
   ]
  },
  {
   "cell_type": "markdown",
   "id": "fcd351ed-eb2b-40d5-9bcc-f5192f33deff",
   "metadata": {},
   "source": [
    "#### Create a multi-model object"
   ]
  },
  {
   "cell_type": "markdown",
   "id": "0df84648",
   "metadata": {},
   "source": [
    "Once the image, data location are set we create the model using `create_model` by specifying the `ModelName` and the Container definition"
   ]
  },
  {
   "cell_type": "code",
   "execution_count": null,
   "id": "828833d4",
   "metadata": {},
   "outputs": [],
   "source": [
    "ts = time.strftime(\"%Y-%m-%d-%H-%M-%S\", time.gmtime())\n",
    "sm_model_name = f\"{prefix}-mdl-{ts}\"\n",
    "\n",
    "create_model_response = sm_client.create_model(\n",
    "    ModelName=sm_model_name, ExecutionRoleArn=role, PrimaryContainer=container\n",
    ")\n",
    "\n",
    "print(\"Model Arn: \" + create_model_response[\"ModelArn\"])"
   ]
  },
  {
   "cell_type": "markdown",
   "id": "71f16874-b6a5-41ef-b6de-6dfd7077a8c0",
   "metadata": {},
   "source": [
    "#### Define configuration for the multi-model endpoint"
   ]
  },
  {
   "cell_type": "markdown",
   "id": "a2e5141f",
   "metadata": {},
   "source": [
    "Using the model above, we create an [endpoint configuration](https://docs.aws.amazon.com/sagemaker/latest/APIReference/API_CreateEndpointConfig.html) where we can specify the type and number of instances we want in the endpoint. Here we are deploying to `g5.xlarge` NVIDIA GPU instance."
   ]
  },
  {
   "cell_type": "code",
   "execution_count": null,
   "id": "f8b1935a",
   "metadata": {},
   "outputs": [],
   "source": [
    "endpoint_config_name = f\"{prefix}-epc-{ts}\"\n",
    "\n",
    "create_endpoint_config_response = sm_client.create_endpoint_config(\n",
    "    EndpointConfigName=endpoint_config_name,\n",
    "    ProductionVariants=[\n",
    "        {\n",
    "            \"InstanceType\": \"ml.g5.xlarge\",\n",
    "            \"InitialVariantWeight\": 1,\n",
    "            \"InitialInstanceCount\": 1,\n",
    "            \"ModelName\": sm_model_name,\n",
    "            \"VariantName\": \"AllTraffic\",\n",
    "        }\n",
    "    ],\n",
    ")\n",
    "\n",
    "print(\"Endpoint Config Arn: \" + create_endpoint_config_response[\"EndpointConfigArn\"])"
   ]
  },
  {
   "cell_type": "markdown",
   "id": "317dea69-3f36-4951-a041-b54f913a4964",
   "metadata": {},
   "source": [
    "#### Create Multi-Model Endpoint"
   ]
  },
  {
   "cell_type": "markdown",
   "id": "f0dbe37b",
   "metadata": {},
   "source": [
    "Using the above endpoint configuration we create a new sagemaker endpoint and wait for the deployment to finish. The status will change to **InService** once the deployment is successful."
   ]
  },
  {
   "cell_type": "code",
   "execution_count": null,
   "id": "1dc75034",
   "metadata": {},
   "outputs": [],
   "source": [
    "endpoint_name = f\"{prefix}-ep-{ts}\"\n",
    "\n",
    "create_endpoint_response = sm_client.create_endpoint(\n",
    "    EndpointName=endpoint_name, EndpointConfigName=endpoint_config_name\n",
    ")\n",
    "\n",
    "print(\"Endpoint Arn: \" + create_endpoint_response[\"EndpointArn\"])"
   ]
  },
  {
   "cell_type": "code",
   "execution_count": null,
   "id": "daa1374f",
   "metadata": {},
   "outputs": [],
   "source": [
    "resp = sm_client.describe_endpoint(EndpointName=endpoint_name)\n",
    "status = resp[\"EndpointStatus\"]\n",
    "print(\"Status: \" + status)\n",
    "\n",
    "while status == \"Creating\":\n",
    "    time.sleep(60)\n",
    "    resp = sm_client.describe_endpoint(EndpointName=endpoint_name)\n",
    "    status = resp[\"EndpointStatus\"]\n",
    "    print(\"Status: \" + status)\n",
    "\n",
    "print(\"Arn: \" + resp[\"EndpointArn\"])\n",
    "print(\"Status: \" + status)"
   ]
  },
  {
   "cell_type": "markdown",
   "id": "1e28b763",
   "metadata": {},
   "source": [
    "### 5. Run Inference"
   ]
  },
  {
   "cell_type": "markdown",
   "id": "9b0a75b2-c890-4da9-ad2f-3732a6225528",
   "metadata": {},
   "source": [
    "Once we have the endpoint running we can use some sample raw data to do an inference using JSON as the payload format. For the inference request format, Triton uses the KFServing community standard [inference protocols](https://github.com/triton-inference-server/server/blob/main/docs/protocol/README.md)."
   ]
  },
  {
   "cell_type": "markdown",
   "id": "401532cf-edc3-489c-a790-a52b4005b8a6",
   "metadata": {},
   "source": [
    "#### Add utility methods for preparing JSON request payload\n",
    "\n"
   ]
  },
  {
   "cell_type": "markdown",
   "id": "4f5f1b0b-89eb-4508-a68c-feece89961c5",
   "metadata": {},
   "source": [
    "We'll use the following utility methods to convert our inference request for DistilBERT and T5 models into a json payload."
   ]
  },
  {
   "cell_type": "code",
   "execution_count": null,
   "id": "9c768924",
   "metadata": {},
   "outputs": [],
   "source": [
    "from transformers import AutoTokenizer\n",
    "\n",
    "def get_tokenizer(model_name):\n",
    "    tokenizer = AutoTokenizer.from_pretrained(model_name)\n",
    "    tokenizer.model_max_length = 256\n",
    "    return tokenizer\n",
    "\n",
    "def tokenize_text(model_name, text):\n",
    "    tokenizer = get_tokenizer(model_name)\n",
    "    tokenized_text = tokenizer(text, padding=\"max_length\", return_tensors=\"np\")\n",
    "    return tokenized_text.input_ids, tokenized_text.attention_mask\n",
    "\n",
    "def get_text_payload(model_name, text):\n",
    "    input_ids, attention_mask = tokenize_text(model_name, text)\n",
    "    payload = {}\n",
    "    payload[\"inputs\"] = []\n",
    "    payload[\"inputs\"].append({\"name\": \"input_ids\", \"shape\": input_ids.shape, \"datatype\": \"INT32\", \"data\": input_ids.tolist()})\n",
    "    payload[\"inputs\"].append({\"name\": \"attention_mask\", \"shape\": attention_mask.shape, \"datatype\": \"INT32\", \"data\": attention_mask.tolist()})\n",
    "    return payload"
   ]
  },
  {
   "cell_type": "markdown",
   "id": "0b75212f-405e-44da-a232-25f29698fa34",
   "metadata": {},
   "source": [
    "#### Invoke target model on Multi Model Endpoint"
   ]
  },
  {
   "cell_type": "markdown",
   "id": "20d04fe1-5b8b-44f4-84db-d8963a4a1b37",
   "metadata": {},
   "source": [
    "We can send inference request to multi-model endpoint using `invoke_enpoint` API. We specify the `TargetModel` in the invocation call and pass in the payload for each model type."
   ]
  },
  {
   "cell_type": "markdown",
   "id": "62d0d3ca",
   "metadata": {},
   "source": [
    "#### DistilBERT TensorFlow Model"
   ]
  },
  {
   "cell_type": "markdown",
   "id": "8fd8e9b1-1e3d-4ebe-a9a3-6ea0373f9192",
   "metadata": {},
   "source": [
    "##### Sample DistilBERT Inference using Json Payload"
   ]
  },
  {
   "cell_type": "markdown",
   "id": "101607d0-4f94-480b-a232-93983b903e9d",
   "metadata": {},
   "source": [
    "First, we show some sample inference on the DistilBERT TensorFlow Binary Classification Model deployed on Triton's TensorFlow SavedModel Backend behind SageMaker MME GPU endpoint"
   ]
  },
  {
   "cell_type": "code",
   "execution_count": null,
   "id": "c6f10516-214d-4fbc-ba0c-40b069259891",
   "metadata": {},
   "outputs": [],
   "source": [
    "texts_to_classify = [\"Many critics thought the sequel film was unnecessary\",\n",
    "                     \"The movie received praise for the visuals and cast\",\n",
    "                     \"Spectacular! Great history and amazing architecture!\"]\n",
    "batch_size = len(texts_to_classify)\n",
    "\n",
    "distilbert_model = \"distilbert-base-uncased-finetuned-sst-2-english\"\n",
    "distilbert_payload = get_text_payload(distilbert_model, texts_to_classify)"
   ]
  },
  {
   "cell_type": "code",
   "execution_count": null,
   "id": "c424b81c-232c-45d3-ab58-855a1d13a12d",
   "metadata": {},
   "outputs": [],
   "source": [
    "response = runtime_sm_client.invoke_endpoint(\n",
    "    EndpointName=endpoint_name,\n",
    "    ContentType=\"application/octet-stream\",\n",
    "    Body=json.dumps(distilbert_payload),\n",
    "    TargetModel=\"distilbert_tf.tar.gz\",\n",
    ")\n",
    "\n",
    "response_body = json.loads(response[\"Body\"].read().decode(\"utf8\"))\n",
    "logits = np.array(response_body[\"outputs\"][0][\"data\"]).reshape(batch_size, -1)\n",
    "CLASSES = [\"NEGATIVE\", \"POSITIVE\"]\n",
    "predictions = []\n",
    "\n",
    "for i in range(batch_size):\n",
    "    pred_class_idx = np.argmax(logits[i])\n",
    "    predictions.append(CLASSES[pred_class_idx])\n",
    "print(predictions)"
   ]
  },
  {
   "cell_type": "markdown",
   "id": "6eca4247-4acf-48c3-8a26-a47148cf9b48",
   "metadata": {},
   "source": [
    "##### Sample DistilBERT Inference using Binary + Json Payload"
   ]
  },
  {
   "cell_type": "markdown",
   "id": "74fb59c1-e4b4-45c4-ace4-9f22afbcd057",
   "metadata": {},
   "source": [
    "We can also use `binary+json` as the payload format to get better performance for the inference call. The specification of this format is provided [here](https://github.com/triton-inference-server/server/blob/main/docs/protocol/extension_binary_data.md).\n",
    "\n",
    "**Note:** With the binary+json format, we have to specify the length of the request metadata in the header to allow Triton to correctly parse the binary payload. This is done using a custom Content-Type header `Application/vnd.sagemaker-triton.binary+json;json-header-size={}`.\n",
    "\n",
    "Please note, this is different from using `Inference-Header-Content-Length` header on a stand-alone Triton server since custom headers are not allowed in SageMaker."
   ]
  },
  {
   "cell_type": "markdown",
   "id": "2cfc2dbd-d725-4a5e-9e43-0deeed5bf9a5",
   "metadata": {},
   "source": [
    "The `tritonclient` package in Triton provides utility methods to generate the payload without having to know the details of the specification. We'll use the following method to convert our inference request for DistilBERT and T5 models into a binary format which provides lower latencies for inference."
   ]
  },
  {
   "cell_type": "code",
   "execution_count": null,
   "id": "a0b42747-cb90-4702-abd0-b8e79bc8b337",
   "metadata": {},
   "outputs": [],
   "source": [
    "import tritonclient.http as httpclient\n",
    "import numpy as np\n",
    "\n",
    "def get_text_payload_binary(model_name, text):\n",
    "    inputs = []\n",
    "    outputs = []\n",
    "    input_ids, attention_mask = tokenize_text(model_name, text)\n",
    "    inputs.append(httpclient.InferInput(\"input_ids\", input_ids.shape, \"INT32\"))\n",
    "    inputs.append(httpclient.InferInput(\"attention_mask\", attention_mask.shape, \"INT32\"))\n",
    "\n",
    "    inputs[0].set_data_from_numpy(input_ids.astype(np.int32), binary_data=True)\n",
    "    inputs[1].set_data_from_numpy(attention_mask.astype(np.int32), binary_data=True)\n",
    "    \n",
    "    output_name = \"output\" if model_name == \"t5-small\" else \"logits\"\n",
    "    request_body, header_length = httpclient.InferenceServerClient.generate_request_body(\n",
    "        inputs, outputs=outputs\n",
    "    )\n",
    "    return request_body, header_length"
   ]
  },
  {
   "cell_type": "code",
   "execution_count": null,
   "id": "e19ae6fa-973c-4ccd-a2cf-9c336cc8e4eb",
   "metadata": {},
   "outputs": [],
   "source": [
    "request_body, header_length = get_text_payload_binary(distilbert_model, texts_to_classify)\n",
    "\n",
    "response = runtime_sm_client.invoke_endpoint(EndpointName=endpoint_name,\n",
    "                                  ContentType='application/vnd.sagemaker-triton.binary+json;json-header-size={}'.format(header_length),\n",
    "                                  Body=request_body,\n",
    "                                  TargetModel='distilbert_tf.tar.gz')\n",
    "\n",
    "# Parse json header size length from the response\n",
    "header_length_prefix = \"application/vnd.sagemaker-triton.binary+json;json-header-size=\"\n",
    "header_length_str = response['ContentType'][len(header_length_prefix):]\n",
    "output_name = \"logits\"\n",
    "# Read response body\n",
    "result = httpclient.InferenceServerClient.parse_response_body(\n",
    "    response['Body'].read(), header_length=int(header_length_str))\n",
    "logits = result.as_numpy(output_name)\n",
    "CLASSES = [\"NEGATIVE\", \"POSITIVE\"]\n",
    "predictions = []\n",
    "\n",
    "for i in range(batch_size):\n",
    "    pred_class_idx = np.argmax(logits[i])\n",
    "    predictions.append(CLASSES[pred_class_idx])\n",
    "print(predictions)"
   ]
  },
  {
   "cell_type": "markdown",
   "id": "92d2833f",
   "metadata": {},
   "source": [
    "#### T5 PyTorch Model"
   ]
  },
  {
   "cell_type": "markdown",
   "id": "1ca9c23f-02a9-4187-9896-83584eb0d0c8",
   "metadata": {},
   "source": [
    "Next, we show some sample inference for summarization on the T5 PyTorch Model deployed on Triton's Python Backend behind SageMaker MME GPU endpoint"
   ]
  },
  {
   "cell_type": "code",
   "execution_count": null,
   "id": "f94530b0-6e76-4faa-9180-8bddb205321d",
   "metadata": {},
   "outputs": [],
   "source": [
    "texts_to_summarize = [\n",
    "    \"summarize: SageMaker enables customers to deploy a model using custom code with NVIDIA Triton Inference Server. This functionality is available through the development of Triton Inference Server Containers. These containers include NVIDIA Triton Inference Server, support for common ML frameworks, and useful environment variables that let you optimize performance on SageMaker. For a list of all available Deep Learning Containers images, see Available Deep Learning Containers Images. Deep Learning Containers images are maintained and regularly updated with security patches\",\n",
    "    \"summarize: SageMaker MMEs with GPU work using NVIDIA Triton Inference Server. NVIDIA Triton Inference Server is an open-source inference serving software that simplifies the inference serving process and provides high inference performance. Triton supports all major training and inference frameworks, such as TensorFlow, NVIDIA® TensorRT™, PyTorch, MXNet, Python, ONNX, XGBoost, Scikit-learn, RandomForest, OpenVINO, custom C++, and more. It offers dynamic batching, concurrent runs, post-training quantization, and optimal model configuration to achieve high-performance inference.\"\n",
    "]\n",
    "batch_size = len(texts_to_summarize)"
   ]
  },
  {
   "cell_type": "markdown",
   "id": "e4552627-ab54-406f-a94e-3bb6931790f9",
   "metadata": {},
   "source": [
    "##### Sample T5 Inference using Json Payload"
   ]
  },
  {
   "cell_type": "code",
   "execution_count": null,
   "id": "1e1f0f2f-84d7-4469-9660-9c1d4f8416cf",
   "metadata": {},
   "outputs": [],
   "source": [
    "t5_payload = get_text_payload(\"t5-small\", texts_to_summarize)\n",
    "\n",
    "response = runtime_sm_client.invoke_endpoint(\n",
    "    EndpointName=endpoint_name,\n",
    "    ContentType=\"application/octet-stream\",\n",
    "    Body=json.dumps(t5_payload),\n",
    "    TargetModel=\"t5_pytorch.tar.gz\",\n",
    ")\n",
    "\n",
    "response_body = json.loads(response[\"Body\"].read().decode(\"utf8\"))\n",
    "output_ids = np.array(response_body[\"outputs\"][0][\"data\"]).reshape(batch_size, -1)\n",
    "t5_tokenizer = get_tokenizer(t5)\n",
    "decoded_outputs = t5_tokenizer.batch_decode(output_ids, skip_special_tokens=True)\n",
    "for text in decoded_outputs:\n",
    "    print(text, \"\\n\")"
   ]
  },
  {
   "cell_type": "markdown",
   "id": "262c3e36-45c2-4ee5-b397-ec43ac76f3a8",
   "metadata": {},
   "source": [
    "##### Sample T5 Inference using Binary + Json Payload"
   ]
  },
  {
   "cell_type": "code",
   "execution_count": null,
   "id": "6c57ddb3-d939-4ca9-8b6d-424f9cf17744",
   "metadata": {},
   "outputs": [],
   "source": [
    "request_body, header_length = get_text_payload_binary(\"t5-small\", texts_to_summarize)\n",
    "\n",
    "response = runtime_sm_client.invoke_endpoint(EndpointName=endpoint_name,\n",
    "                                  ContentType='application/vnd.sagemaker-triton.binary+json;json-header-size={}'.format(header_length),\n",
    "                                  Body=request_body,\n",
    "                                 TargetModel='t5_pytorch.tar.gz')\n",
    "\n",
    "# Parse json header size length from the response\n",
    "header_length_prefix = \"application/vnd.sagemaker-triton.binary+json;json-header-size=\"\n",
    "header_length_str = response['ContentType'][len(header_length_prefix):]\n",
    "output_name = \"output\"\n",
    "# Read response body\n",
    "result = httpclient.InferenceServerClient.parse_response_body(\n",
    "    response['Body'].read(), header_length=int(header_length_str))\n",
    "output_ids = result.as_numpy(output_name)\n",
    "decoded_output = t5_tokenizer.batch_decode(output_ids, skip_special_tokens=True)\n",
    "for text in decoded_outputs:\n",
    "    print(text, \"\\n\")"
   ]
  },
  {
   "cell_type": "markdown",
   "id": "b73c23ed",
   "metadata": {},
   "source": [
    "### Terminate endpoint and clean up artifacts"
   ]
  },
  {
   "cell_type": "code",
   "execution_count": null,
   "id": "1fceaccf",
   "metadata": {},
   "outputs": [],
   "source": [
    "sm_client.delete_model(ModelName=sm_model_name)\n",
    "sm_client.delete_endpoint_config(EndpointConfigName=endpoint_config_name)\n",
    "sm_client.delete_endpoint(EndpointName=endpoint_name)"
   ]
  },
  {
   "cell_type": "code",
   "execution_count": null,
   "id": "81ab4b3f-fa2c-4a5a-a9bc-7cb534e590b7",
   "metadata": {},
   "outputs": [],
   "source": []
  }
 ],
 "metadata": {
  "kernelspec": {
   "display_name": "conda_python3",
   "language": "python",
   "name": "conda_python3"
  },
  "language_info": {
   "codemirror_mode": {
    "name": "ipython",
    "version": 3
   },
   "file_extension": ".py",
   "mimetype": "text/x-python",
   "name": "python",
   "nbconvert_exporter": "python",
   "pygments_lexer": "ipython3",
   "version": "3.8.12"
  }
 },
 "nbformat": 4,
 "nbformat_minor": 5
}
